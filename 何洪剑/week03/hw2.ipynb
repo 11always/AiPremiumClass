{
 "cells": [
  {
   "cell_type": "code",
   "execution_count": 4,
   "metadata": {},
   "outputs": [],
   "source": [
    "import torch\n",
    "import torch.nn as nn\n",
    "from torchvision.datasets import FashionMNIST\n",
    "from torchvision.transforms import ToTensor\n",
    "from torch.utils.data import DataLoader"
   ]
  },
  {
   "cell_type": "code",
   "execution_count": 5,
   "metadata": {},
   "outputs": [],
   "source": [
    "# 超参数\n",
    "LR = 1e-3\n",
    "BATCH_SIZE = 128\n",
    "epochs = 100"
   ]
  },
  {
   "cell_type": "code",
   "execution_count": 9,
   "metadata": {},
   "outputs": [],
   "source": [
    "# 模型定义\n",
    "model = nn.Sequential(\n",
    "    nn.Linear(784, 64),\n",
    "    nn.Sigmoid(),\n",
    "    nn.Linear(64, 128),\n",
    "    nn.Sigmoid(),\n",
    "    nn.Linear(128, 512),\n",
    "    nn.Sigmoid(),\n",
    "    nn.Linear(512, 128),\n",
    "    nn.Sigmoid(),\n",
    "    nn.Linear(128, 64),\n",
    "    nn.Sigmoid(),\n",
    "    nn.Linear(64,10)\n",
    ")\n",
    "\n",
    "def train_model(LR, BATCH_SIZE, epochs):\n",
    "    # 损失函数\n",
    "    loss_fn = nn.CrossEntropyLoss()\n",
    "    # 优化器（模型参数更新）\n",
    "    optimizer = torch.optim.SGD(model.parameters(), lr=LR)\n",
    "\n",
    "    # 模型训练\n",
    "    for epoch in range(epochs):\n",
    "        # 提取训练数据\n",
    "        for data, target in train_dl:\n",
    "            data = torch.tensor(data.reshape(-1, 784))\n",
    "            target = torch.tensor(target)\n",
    "            # 前向运算\n",
    "            output = model(data)\n",
    "            # 计算损失\n",
    "            loss = loss_fn(output, target)\n",
    "            # 反向传播\n",
    "            optimizer.zero_grad() # 所有参数梯度清零\n",
    "            loss.backward() # 计算梯度，保存到.grad\n",
    "            optimizer.step() # 更新参数\n",
    "            \n",
    "        print(f'Epoch {epoch}, Loss {loss.item()}')\n",
    "    return model"
   ]
  },
  {
   "cell_type": "code",
   "execution_count": 10,
   "metadata": {},
   "outputs": [
    {
     "name": "stderr",
     "output_type": "stream",
     "text": [
      "C:\\Users\\lisheng\\AppData\\Local\\Temp\\ipykernel_34572\\2622129587.py:26: UserWarning: To copy construct from a tensor, it is recommended to use sourceTensor.clone().detach() or sourceTensor.clone().detach().requires_grad_(True), rather than torch.tensor(sourceTensor).\n",
      "  data = torch.tensor(data.reshape(-1, 784))\n",
      "C:\\Users\\lisheng\\AppData\\Local\\Temp\\ipykernel_34572\\2622129587.py:27: UserWarning: To copy construct from a tensor, it is recommended to use sourceTensor.clone().detach() or sourceTensor.clone().detach().requires_grad_(True), rather than torch.tensor(sourceTensor).\n",
      "  target = torch.tensor(target)\n"
     ]
    },
    {
     "name": "stdout",
     "output_type": "stream",
     "text": [
      "Epoch 0, Loss 2.2986855506896973\n",
      "Epoch 1, Loss 2.3065121173858643\n",
      "Epoch 2, Loss 2.3020317554473877\n",
      "Epoch 3, Loss 2.3024117946624756\n",
      "Epoch 4, Loss 2.3019165992736816\n",
      "Epoch 5, Loss 2.303105592727661\n",
      "Epoch 6, Loss 2.3029632568359375\n",
      "Epoch 7, Loss 2.3028557300567627\n",
      "Epoch 8, Loss 2.3024237155914307\n",
      "Epoch 9, Loss 2.302454710006714\n",
      "Epoch 10, Loss 2.302565097808838\n",
      "Epoch 11, Loss 2.3031370639801025\n",
      "Epoch 12, Loss 2.3024723529815674\n",
      "Epoch 13, Loss 2.302345037460327\n",
      "Epoch 14, Loss 2.3028993606567383\n",
      "Epoch 15, Loss 2.3029167652130127\n",
      "Epoch 16, Loss 2.3026785850524902\n",
      "Epoch 17, Loss 2.3022689819335938\n",
      "Epoch 18, Loss 2.3025503158569336\n",
      "Epoch 19, Loss 2.3026375770568848\n",
      "Epoch 20, Loss 2.3027820587158203\n",
      "Epoch 21, Loss 2.3026270866394043\n",
      "Epoch 22, Loss 2.3027126789093018\n",
      "Epoch 23, Loss 2.302377462387085\n",
      "Epoch 24, Loss 2.302851438522339\n",
      "Epoch 25, Loss 2.3026771545410156\n",
      "Epoch 26, Loss 2.303136110305786\n",
      "Epoch 27, Loss 2.3026363849639893\n",
      "Epoch 28, Loss 2.3028881549835205\n",
      "Epoch 29, Loss 2.3025498390197754\n",
      "Epoch 30, Loss 2.3025646209716797\n",
      "Epoch 31, Loss 2.3024752140045166\n",
      "Epoch 32, Loss 2.3026504516601562\n",
      "Epoch 33, Loss 2.3026692867279053\n",
      "Epoch 34, Loss 2.3028783798217773\n",
      "Epoch 35, Loss 2.302541494369507\n",
      "Epoch 36, Loss 2.302574872970581\n",
      "Epoch 37, Loss 2.3029205799102783\n",
      "Epoch 38, Loss 2.3026468753814697\n",
      "Epoch 39, Loss 2.302617311477661\n",
      "Epoch 40, Loss 2.302591562271118\n",
      "Epoch 41, Loss 2.302647113800049\n",
      "Epoch 42, Loss 2.3027522563934326\n",
      "Epoch 43, Loss 2.3028106689453125\n",
      "Epoch 44, Loss 2.3025426864624023\n",
      "Epoch 45, Loss 2.302842855453491\n",
      "Epoch 46, Loss 2.302619695663452\n",
      "Epoch 47, Loss 2.3024990558624268\n",
      "Epoch 48, Loss 2.302661657333374\n",
      "Epoch 49, Loss 2.302915573120117\n",
      "Epoch 50, Loss 2.30287766456604\n",
      "Epoch 51, Loss 2.3027069568634033\n",
      "Epoch 52, Loss 2.302574634552002\n",
      "Epoch 53, Loss 2.302799701690674\n",
      "Epoch 54, Loss 2.3027138710021973\n",
      "Epoch 55, Loss 2.302853584289551\n",
      "Epoch 56, Loss 2.3021678924560547\n",
      "Epoch 57, Loss 2.3029720783233643\n",
      "Epoch 58, Loss 2.3025825023651123\n",
      "Epoch 59, Loss 2.3025219440460205\n",
      "Epoch 60, Loss 2.3024027347564697\n",
      "Epoch 61, Loss 2.302563428878784\n",
      "Epoch 62, Loss 2.302762746810913\n",
      "Epoch 63, Loss 2.3024392127990723\n",
      "Epoch 64, Loss 2.3028509616851807\n",
      "Epoch 65, Loss 2.302828550338745\n",
      "Epoch 66, Loss 2.3029277324676514\n",
      "Epoch 67, Loss 2.3025496006011963\n",
      "Epoch 68, Loss 2.3025009632110596\n",
      "Epoch 69, Loss 2.3026039600372314\n",
      "Epoch 70, Loss 2.3028194904327393\n",
      "Epoch 71, Loss 2.302489995956421\n",
      "Epoch 72, Loss 2.302666425704956\n",
      "Epoch 73, Loss 2.302785634994507\n",
      "Epoch 74, Loss 2.3026483058929443\n",
      "Epoch 75, Loss 2.3026020526885986\n",
      "Epoch 76, Loss 2.3028132915496826\n",
      "Epoch 77, Loss 2.3027431964874268\n",
      "Epoch 78, Loss 2.302680730819702\n",
      "Epoch 79, Loss 2.302668809890747\n",
      "Epoch 80, Loss 2.3024518489837646\n",
      "Epoch 81, Loss 2.3026978969573975\n",
      "Epoch 82, Loss 2.3028311729431152\n",
      "Epoch 83, Loss 2.3026530742645264\n",
      "Epoch 84, Loss 2.302759885787964\n",
      "Epoch 85, Loss 2.3030622005462646\n",
      "Epoch 86, Loss 2.3028244972229004\n",
      "Epoch 87, Loss 2.3025777339935303\n",
      "Epoch 88, Loss 2.3025546073913574\n",
      "Epoch 89, Loss 2.30277419090271\n",
      "Epoch 90, Loss 2.302621603012085\n",
      "Epoch 91, Loss 2.3025336265563965\n",
      "Epoch 92, Loss 2.302717447280884\n",
      "Epoch 93, Loss 2.302807569503784\n",
      "Epoch 94, Loss 2.3026750087738037\n",
      "Epoch 95, Loss 2.302762269973755\n",
      "Epoch 96, Loss 2.302755117416382\n",
      "Epoch 97, Loss 2.302557945251465\n",
      "Epoch 98, Loss 2.3026928901672363\n",
      "Epoch 99, Loss 2.303123712539673\n"
     ]
    },
    {
     "data": {
      "text/plain": [
       "Sequential(\n",
       "  (0): Linear(in_features=784, out_features=64, bias=True)\n",
       "  (1): Sigmoid()\n",
       "  (2): Linear(in_features=64, out_features=128, bias=True)\n",
       "  (3): Sigmoid()\n",
       "  (4): Linear(in_features=128, out_features=512, bias=True)\n",
       "  (5): Sigmoid()\n",
       "  (6): Linear(in_features=512, out_features=128, bias=True)\n",
       "  (7): Sigmoid()\n",
       "  (8): Linear(in_features=128, out_features=64, bias=True)\n",
       "  (9): Sigmoid()\n",
       "  (10): Linear(in_features=64, out_features=10, bias=True)\n",
       ")"
      ]
     },
     "execution_count": 10,
     "metadata": {},
     "output_type": "execute_result"
    }
   ],
   "source": [
    "# 数据加载\n",
    "train_data = FashionMNIST(root='./fashion_data',train=True,download=True,transform=ToTensor())\n",
    "test_data = FashionMNIST(root='./fashion_data',train=False,download=True,transform=ToTensor())\n",
    "train_dl = DataLoader(train_data,batch_size=BATCH_SIZE,shuffle=True)\n",
    "\n",
    "train_model(LR, BATCH_SIZE, epochs)"
   ]
  },
  {
   "cell_type": "code",
   "execution_count": 11,
   "metadata": {},
   "outputs": [
    {
     "name": "stdout",
     "output_type": "stream",
     "text": [
      "Accuracy: 10.0 %\n"
     ]
    }
   ],
   "source": [
    "test_dl = DataLoader(test_data, batch_size=BATCH_SIZE)\n",
    "\n",
    "correct = 0\n",
    "total = 0\n",
    "with torch.no_grad():\n",
    "    for data, target in test_dl:\n",
    "        output = model(data.reshape(-1, 784))\n",
    "        _, predicted = torch.max(output, 1)\n",
    "        total += target.size(0)\n",
    "        correct += (predicted == target).sum().item()\n",
    "        \n",
    "print(f'Accuracy: {correct/total*100} %')"
   ]
  }
 ],
 "metadata": {
  "kernelspec": {
   "display_name": "py312",
   "language": "python",
   "name": "python3"
  },
  "language_info": {
   "codemirror_mode": {
    "name": "ipython",
    "version": 3
   },
   "file_extension": ".py",
   "mimetype": "text/x-python",
   "name": "python",
   "nbconvert_exporter": "python",
   "pygments_lexer": "ipython3",
   "version": "3.12.8"
  }
 },
 "nbformat": 4,
 "nbformat_minor": 2
}
