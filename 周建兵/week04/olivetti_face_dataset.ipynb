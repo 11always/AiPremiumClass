{
 "cells": [
  {
   "cell_type": "code",
   "execution_count": 5,
   "metadata": {},
   "outputs": [],
   "source": [
    "from sklearn.datasets import fetch_olivetti_faces"
   ]
  },
  {
   "cell_type": "code",
   "execution_count": 6,
   "metadata": {},
   "outputs": [
    {
     "name": "stdout",
     "output_type": "stream",
     "text": [
      "(400, 4096)\n",
      "(400,)\n",
      "(400, 64, 64)\n"
     ]
    }
   ],
   "source": [
    "olivetti_faces = fetch_olivetti_faces(data_home='./face_data', shuffle=True)\n",
    "print(olivetti_faces.data.shape)\n",
    "print(olivetti_faces.target.shape)\n",
    "print(olivetti_faces.images.shape)"
   ]
  },
  {
   "cell_type": "code",
   "execution_count": 7,
   "metadata": {},
   "outputs": [
    {
     "data": {
      "image/png": "[encoded data removed]",
      "text/plain": [
       "<Figure size 640x480 with 1 Axes>"
      ]
     },
     "metadata": {},
     "output_type": "display_data"
    }
   ],
   "source": [
    "import matplotlib.pyplot as plt\n",
    "\n",
    "face = olivetti_faces.images[1]\n",
    "plt.imshow(face, cmap='gray')\n",
    "plt.show()"
   ]
  },
  {
   "cell_type": "code",
   "execution_count": 8,
   "metadata": {},
   "outputs": [
    {
     "data": {
      "text/plain": [
       "array([0.76859504, 0.75619835, 0.74380165, ..., 0.48347107, 0.6280992 ,\n",
       "       0.6528926 ], dtype=float32)"
      ]
     },
     "execution_count": 8,
     "metadata": {},
     "output_type": "execute_result"
    }
   ],
   "source": [
    "olivetti_faces.data[1]"
   ]
  },
  {
   "cell_type": "code",
   "execution_count": 9,
   "metadata": {},
   "outputs": [
    {
     "data": {
      "text/plain": [
       "(4096,)"
      ]
     },
     "execution_count": 9,
     "metadata": {},
     "output_type": "execute_result"
    }
   ],
   "source": [
    "olivetti_faces.data[1].shape"
   ]
  },
  {
   "cell_type": "code",
   "execution_count": 10,
   "metadata": {},
   "outputs": [
    {
     "data": {
      "text/plain": [
       "array([13, 30, 34, 19, 24,  6, 15, 26, 14, 21,  3, 13, 11, 34,  1,  5, 29,\n",
       "       14, 20, 19, 17, 26, 12, 34, 17, 31,  7,  1, 28, 10, 17, 30, 33, 22,\n",
       "        6,  7,  9, 17, 17, 39, 10, 32,  0,  0, 29,  5, 37, 25, 15, 23, 24,\n",
       "       14, 29, 17, 28, 31,  5,  1,  2,  4,  7, 27,  0, 35, 19, 37, 14,  0,\n",
       "       15, 31,  0, 26,  6,  2, 10,  1, 36, 30, 36, 32, 33,  6,  5, 10, 30,\n",
       "       22, 12, 37, 39, 32, 38, 25,  5,  0, 19, 14, 13, 39, 26, 36, 25,  6,\n",
       "       31, 15, 28, 34,  8, 34, 15, 29,  9,  8, 29,  2, 36, 21, 25,  4, 23,\n",
       "       34,  9, 22, 23, 23, 37, 14,  2, 25, 35, 16, 15, 39,  6, 24, 21, 10,\n",
       "       31, 19, 32,  1, 16, 18,  3, 11, 26, 10, 35, 24, 23, 11, 33, 12, 28,\n",
       "       11, 21, 13, 27, 12, 19, 29, 28, 13,  3, 37, 16,  3, 23,  9,  8,  6,\n",
       "       16, 28, 20, 39, 23, 28, 10,  4, 32, 39, 22,  7, 13, 38, 22, 21,  2,\n",
       "       18, 36, 27,  5, 32, 35,  2,  0, 21, 15, 21, 37, 22, 13, 23, 21, 27,\n",
       "       27, 30, 23,  3, 20, 39,  6,  2, 33,  4, 24, 12,  9, 11, 16, 38, 38,\n",
       "       34,  4,  1, 28,  7, 24, 39,  7,  1, 36, 21, 38, 38, 22, 16, 10, 16,\n",
       "        8, 18, 39, 11, 25, 18, 20, 37, 11, 14, 15, 15,  1, 26,  7, 10, 32,\n",
       "       20, 31, 13, 23, 31, 24, 30,  1, 22, 30,  0, 27, 12,  7, 18, 30, 37,\n",
       "       34, 18, 35,  8, 25,  1, 29,  8, 26,  3, 38,  5,  4, 27,  5, 20, 31,\n",
       "       31, 33, 12, 22,  6, 30, 13, 18,  2,  4,  0, 20, 33,  9, 38, 17, 25,\n",
       "        9, 36,  9, 35, 16,  6, 30,  4, 20, 27, 22, 14, 14, 18, 13, 35, 39,\n",
       "       26, 32, 20,  8, 12, 34, 36,  9,  8, 26, 11, 29,  5, 32, 25, 35,  4,\n",
       "       10, 36, 27, 35,  3,  5, 34, 12, 29,  2, 18, 16, 15, 24, 20,  3,  3,\n",
       "       12, 18, 37, 28, 36, 14, 28, 37, 17,  9, 33, 33, 19, 24, 11, 26,  7,\n",
       "       33,  2, 16, 33, 38, 17, 38,  3, 19, 31,  8,  7,  8, 29, 24, 27, 21,\n",
       "        0, 35, 19, 25, 32, 19, 11,  4, 17])"
      ]
     },
     "execution_count": 10,
     "metadata": {},
     "output_type": "execute_result"
    }
   ],
   "source": [
    "olivetti_faces.target"
   ]
  },
  {
   "cell_type": "code",
   "execution_count": 11,
   "metadata": {},
   "outputs": [
    {
     "data": {
      "text/plain": [
       "(400,)"
      ]
     },
     "execution_count": 11,
     "metadata": {},
     "output_type": "execute_result"
    }
   ],
   "source": [
    "olivetti_faces.target.shape"
   ]
  },
  {
   "cell_type": "code",
   "execution_count": 12,
   "metadata": {},
   "outputs": [],
   "source": [
    "import torch\n",
    "import torch.nn as nn"
   ]
  },
  {
   "cell_type": "code",
   "execution_count": 13,
   "metadata": {},
   "outputs": [],
   "source": [
    "images = torch.tensor(olivetti_faces.data)\n",
    "targets = torch.tensor(olivetti_faces.target)"
   ]
  },
  {
   "cell_type": "code",
   "execution_count": 14,
   "metadata": {},
   "outputs": [
    {
     "data": {
      "text/plain": [
       "torch.Size([400, 4096])"
      ]
     },
     "execution_count": 14,
     "metadata": {},
     "output_type": "execute_result"
    }
   ],
   "source": [
    "images.shape"
   ]
  },
  {
   "cell_type": "code",
   "execution_count": 15,
   "metadata": {},
   "outputs": [
    {
     "data": {
      "text/plain": [
       "torch.Size([400])"
      ]
     },
     "execution_count": 15,
     "metadata": {},
     "output_type": "execute_result"
    }
   ],
   "source": [
    "targets.shape"
   ]
  },
  {
   "cell_type": "code",
   "execution_count": 16,
   "metadata": {},
   "outputs": [
    {
     "data": {
      "text/plain": [
       "(tensor([0.6694, 0.6364, 0.6488,  ..., 0.0868, 0.0826, 0.0744]),\n",
       " tensor(13, dtype=torch.int32))"
      ]
     },
     "execution_count": 16,
     "metadata": {},
     "output_type": "execute_result"
    }
   ],
   "source": [
    "dataset = [(img,lbl) for img,lbl in zip(images, targets)]\n",
    "dataset[0]"
   ]
  },
  {
   "cell_type": "code",
   "execution_count": 17,
   "metadata": {},
   "outputs": [],
   "source": [
    "dataloader = torch.utils.data.DataLoader(dataset, batch_size=10, shuffle=True)"
   ]
  },
  {
   "cell_type": "code",
   "execution_count": 18,
   "metadata": {},
   "outputs": [
    {
     "data": {
      "text/plain": [
       "device(type='cpu')"
      ]
     },
     "execution_count": 18,
     "metadata": {},
     "output_type": "execute_result"
    }
   ],
   "source": [
    "# device = torch.device('mps' if torch.backends.mps.is_available() else 'cpu')\n",
    "device = torch.device('cuda' if torch.cuda.is_available() else 'cpu')\n",
    "\n",
    "device"
   ]
  },
  {
   "cell_type": "code",
   "execution_count": 23,
   "metadata": {},
   "outputs": [],
   "source": [
    "# from torch_nn import TorchNN\n",
    "\n",
    "# model = TorchNN()\n",
    "# print(model)\n",
    "\n",
    "model = nn.Sequential(\n",
    "    nn.Linear(4096, 8192),\n",
    "    nn.ReLU(),\n",
    "    nn.Linear(8192, 16384),\n",
    "    nn.ReLU(),\n",
    "    nn.Dropout(),\n",
    "    nn.Linear(16384, 1024),\n",
    "    nn.ReLU(),\n",
    "    nn.Linear(1024, 40)\n",
    ").to(device)  # 模型结构搬到GPU内存中"
   ]
  },
  {
   "cell_type": "code",
   "execution_count": 24,
   "metadata": {},
   "outputs": [],
   "source": [
    "# 定义超参数\n",
    "LR = 1e-3\n",
    "epochs = 10\n",
    "BATCH_SIZE = 128"
   ]
  },
  {
   "cell_type": "code",
   "execution_count": null,
   "metadata": {},
   "outputs": [],
   "source": [
    "# 损失函数&优化器\n",
    "loss_fn = nn.CrossEntropyLoss()  # 交叉熵损失函数\n",
    "# 优化器（模型参数更新）\n",
    "optimizer = torch.optim.AdamW(model.parameters(), lr=LR)"
   ]
  },
  {
   "cell_type": "code",
   "execution_count": 30,
   "metadata": {},
   "outputs": [
    {
     "name": "stdout",
     "output_type": "stream",
     "text": [
      "epoch:1 loss:3.7050\n",
      "epoch:1 loss:43.4405\n",
      "epoch:1 loss:15.3100\n",
      "epoch:1 loss:3.7767\n",
      "epoch:1 loss:3.8979\n",
      "epoch:1 loss:3.6739\n",
      "epoch:1 loss:3.7435\n",
      "epoch:1 loss:4.4296\n",
      "epoch:1 loss:3.6363\n",
      "epoch:1 loss:3.6491\n",
      "epoch:1 loss:3.8019\n",
      "epoch:1 loss:3.8546\n",
      "epoch:1 loss:3.7160\n",
      "epoch:1 loss:3.7351\n",
      "epoch:1 loss:3.6753\n",
      "epoch:1 loss:3.6418\n",
      "epoch:1 loss:3.7203\n",
      "epoch:1 loss:3.6861\n",
      "epoch:1 loss:3.7168\n",
      "epoch:1 loss:3.8121\n",
      "epoch:1 loss:3.7788\n",
      "epoch:1 loss:3.6964\n",
      "epoch:1 loss:3.6857\n",
      "epoch:1 loss:3.8216\n",
      "epoch:1 loss:3.7954\n",
      "epoch:1 loss:3.6779\n",
      "epoch:1 loss:3.7439\n",
      "epoch:1 loss:3.7842\n",
      "epoch:1 loss:3.6517\n",
      "epoch:1 loss:3.7788\n",
      "epoch:1 loss:3.7329\n",
      "epoch:1 loss:3.7742\n",
      "epoch:1 loss:3.7275\n",
      "epoch:1 loss:3.7027\n",
      "epoch:1 loss:3.7125\n",
      "epoch:1 loss:3.7288\n",
      "epoch:1 loss:3.7105\n",
      "epoch:1 loss:3.6782\n",
      "epoch:1 loss:3.6835\n",
      "epoch:1 loss:3.6484\n",
      "epoch:2 loss:3.7458\n",
      "epoch:2 loss:3.6350\n",
      "epoch:2 loss:3.6703\n",
      "epoch:2 loss:3.6184\n",
      "epoch:2 loss:3.9046\n",
      "epoch:2 loss:3.8442\n",
      "epoch:2 loss:3.6736\n",
      "epoch:2 loss:3.7243\n",
      "epoch:2 loss:3.7028\n",
      "epoch:2 loss:3.7240\n",
      "epoch:2 loss:3.6616\n",
      "epoch:2 loss:3.7323\n",
      "epoch:2 loss:3.6854\n",
      "epoch:2 loss:3.7377\n",
      "epoch:2 loss:3.7108\n",
      "epoch:2 loss:3.6466\n",
      "epoch:2 loss:3.6684\n",
      "epoch:2 loss:3.6945\n",
      "epoch:2 loss:3.7156\n",
      "epoch:2 loss:3.7159\n",
      "epoch:2 loss:3.7273\n",
      "epoch:2 loss:3.7048\n",
      "epoch:2 loss:3.7175\n",
      "epoch:2 loss:3.6715\n",
      "epoch:2 loss:3.7196\n",
      "epoch:2 loss:3.6766\n",
      "epoch:2 loss:3.6734\n",
      "epoch:2 loss:3.7092\n",
      "epoch:2 loss:3.7248\n",
      "epoch:2 loss:3.7014\n",
      "epoch:2 loss:3.7020\n",
      "epoch:2 loss:3.7099\n",
      "epoch:2 loss:3.7044\n",
      "epoch:2 loss:3.7100\n",
      "epoch:2 loss:3.6901\n",
      "epoch:2 loss:3.6853\n",
      "epoch:2 loss:3.7063\n",
      "epoch:2 loss:3.6842\n",
      "epoch:2 loss:3.6896\n",
      "epoch:2 loss:3.6907\n",
      "epoch:3 loss:3.6870\n",
      "epoch:3 loss:3.6949\n",
      "epoch:3 loss:3.6883\n",
      "epoch:3 loss:3.6985\n",
      "epoch:3 loss:3.6847\n",
      "epoch:3 loss:3.6841\n",
      "epoch:3 loss:3.6824\n",
      "epoch:3 loss:3.6865\n",
      "epoch:3 loss:3.6904\n",
      "epoch:3 loss:3.6864\n",
      "epoch:3 loss:3.6967\n",
      "epoch:3 loss:3.6886\n",
      "epoch:3 loss:3.6885\n",
      "epoch:3 loss:3.6956\n",
      "epoch:3 loss:3.6956\n",
      "epoch:3 loss:3.7007\n",
      "epoch:3 loss:3.6934\n",
      "epoch:3 loss:3.6905\n",
      "epoch:3 loss:3.6911\n",
      "epoch:3 loss:3.6913\n",
      "epoch:3 loss:3.6896\n",
      "epoch:3 loss:3.6850\n",
      "epoch:3 loss:3.6889\n",
      "epoch:3 loss:3.6868\n",
      "epoch:3 loss:3.6885\n",
      "epoch:3 loss:3.6818\n",
      "epoch:3 loss:3.6879\n",
      "epoch:3 loss:3.6922\n",
      "epoch:3 loss:3.6864\n",
      "epoch:3 loss:3.6919\n",
      "epoch:3 loss:3.6950\n",
      "epoch:3 loss:3.6879\n",
      "epoch:3 loss:3.7003\n",
      "epoch:3 loss:3.6834\n",
      "epoch:3 loss:3.6869\n",
      "epoch:3 loss:3.6979\n",
      "epoch:3 loss:3.6968\n",
      "epoch:3 loss:3.6739\n",
      "epoch:3 loss:3.6992\n",
      "epoch:3 loss:3.6952\n",
      "epoch:4 loss:3.6933\n",
      "epoch:4 loss:3.6807\n",
      "epoch:4 loss:3.6918\n",
      "epoch:4 loss:3.6970\n",
      "epoch:4 loss:3.6932\n",
      "epoch:4 loss:3.6980\n",
      "epoch:4 loss:3.6928\n",
      "epoch:4 loss:3.6805\n",
      "epoch:4 loss:3.6770\n",
      "epoch:4 loss:3.6874\n",
      "epoch:4 loss:3.6922\n",
      "epoch:4 loss:3.6896\n",
      "epoch:4 loss:3.6790\n",
      "epoch:4 loss:3.6975\n",
      "epoch:4 loss:3.6965\n",
      "epoch:4 loss:3.6852\n",
      "epoch:4 loss:3.6908\n",
      "epoch:4 loss:3.6831\n",
      "epoch:4 loss:3.6975\n",
      "epoch:4 loss:3.6883\n",
      "epoch:4 loss:3.6814\n",
      "epoch:4 loss:3.6847\n",
      "epoch:4 loss:3.6920\n",
      "epoch:4 loss:3.6929\n",
      "epoch:4 loss:3.6911\n",
      "epoch:4 loss:3.6933\n",
      "epoch:4 loss:3.6849\n",
      "epoch:4 loss:3.6989\n",
      "epoch:4 loss:3.6839\n",
      "epoch:4 loss:3.6864\n",
      "epoch:4 loss:3.6872\n",
      "epoch:4 loss:3.6828\n",
      "epoch:4 loss:3.6929\n",
      "epoch:4 loss:3.6907\n",
      "epoch:4 loss:3.6992\n",
      "epoch:4 loss:3.6973\n",
      "epoch:4 loss:3.6911\n",
      "epoch:4 loss:3.6894\n",
      "epoch:4 loss:3.6905\n",
      "epoch:4 loss:3.6937\n",
      "epoch:5 loss:3.6994\n",
      "epoch:5 loss:3.6822\n",
      "epoch:5 loss:3.6878\n",
      "epoch:5 loss:3.6920\n",
      "epoch:5 loss:3.6882\n",
      "epoch:5 loss:3.6923\n",
      "epoch:5 loss:3.6875\n",
      "epoch:5 loss:3.6987\n",
      "epoch:5 loss:3.6981\n",
      "epoch:5 loss:3.6811\n",
      "epoch:5 loss:3.6903\n",
      "epoch:5 loss:3.6855\n",
      "epoch:5 loss:3.6858\n",
      "epoch:5 loss:3.6877\n",
      "epoch:5 loss:3.6872\n",
      "epoch:5 loss:3.6815\n",
      "epoch:5 loss:3.6905\n",
      "epoch:5 loss:3.6907\n",
      "epoch:5 loss:3.6794\n",
      "epoch:5 loss:3.6841\n",
      "epoch:5 loss:3.6989\n",
      "epoch:5 loss:3.6904\n",
      "epoch:5 loss:3.6900\n",
      "epoch:5 loss:3.7047\n",
      "epoch:5 loss:3.6903\n",
      "epoch:5 loss:3.6902\n",
      "epoch:5 loss:3.6793\n",
      "epoch:5 loss:3.6943\n",
      "epoch:5 loss:3.6978\n",
      "epoch:5 loss:3.6875\n",
      "epoch:5 loss:3.6823\n",
      "epoch:5 loss:3.6894\n",
      "epoch:5 loss:3.6902\n",
      "epoch:5 loss:3.6942\n",
      "epoch:5 loss:3.6959\n",
      "epoch:5 loss:3.6893\n",
      "epoch:5 loss:3.6866\n",
      "epoch:5 loss:3.6901\n",
      "epoch:5 loss:3.6837\n",
      "epoch:5 loss:3.6957\n",
      "epoch:6 loss:3.6919\n",
      "epoch:6 loss:3.6771\n",
      "epoch:6 loss:3.6887\n",
      "epoch:6 loss:3.6935\n",
      "epoch:6 loss:3.6879\n",
      "epoch:6 loss:3.6920\n",
      "epoch:6 loss:3.6966\n",
      "epoch:6 loss:3.6869\n",
      "epoch:6 loss:3.6856\n",
      "epoch:6 loss:3.6917\n",
      "epoch:6 loss:3.6838\n",
      "epoch:6 loss:3.6935\n",
      "epoch:6 loss:3.6799\n",
      "epoch:6 loss:3.6963\n",
      "epoch:6 loss:3.6963\n",
      "epoch:6 loss:3.6938\n",
      "epoch:6 loss:3.6775\n",
      "epoch:6 loss:3.6869\n",
      "epoch:6 loss:3.6976\n",
      "epoch:6 loss:3.6853\n",
      "epoch:6 loss:3.6936\n",
      "epoch:6 loss:3.6966\n",
      "epoch:6 loss:3.6942\n",
      "epoch:6 loss:3.6906\n",
      "epoch:6 loss:3.6768\n",
      "epoch:6 loss:3.6970\n",
      "epoch:6 loss:3.6865\n",
      "epoch:6 loss:3.6838\n",
      "epoch:6 loss:3.6862\n",
      "epoch:6 loss:3.6968\n",
      "epoch:6 loss:3.6960\n",
      "epoch:6 loss:3.6907\n",
      "epoch:6 loss:3.6809\n",
      "epoch:6 loss:3.6885\n",
      "epoch:6 loss:3.6876\n",
      "epoch:6 loss:3.6938\n",
      "epoch:6 loss:3.6941\n",
      "epoch:6 loss:3.6909\n",
      "epoch:6 loss:3.6953\n",
      "epoch:6 loss:3.6893\n",
      "epoch:7 loss:3.6901\n",
      "epoch:7 loss:3.6883\n",
      "epoch:7 loss:3.6848\n",
      "epoch:7 loss:3.6935\n",
      "epoch:7 loss:3.6796\n",
      "epoch:7 loss:3.6876\n",
      "epoch:7 loss:3.6919\n",
      "epoch:7 loss:3.6926\n",
      "epoch:7 loss:3.6951\n",
      "epoch:7 loss:3.6920\n",
      "epoch:7 loss:3.6890\n",
      "epoch:7 loss:3.6914\n",
      "epoch:7 loss:3.6905\n",
      "epoch:7 loss:3.6837\n",
      "epoch:7 loss:3.6813\n",
      "epoch:7 loss:3.6945\n",
      "epoch:7 loss:3.6879\n",
      "epoch:7 loss:3.6870\n",
      "epoch:7 loss:3.6880\n",
      "epoch:7 loss:3.6871\n",
      "epoch:7 loss:3.6928\n",
      "epoch:7 loss:3.6899\n",
      "epoch:7 loss:3.6878\n",
      "epoch:7 loss:3.6952\n",
      "epoch:7 loss:3.6936\n",
      "epoch:7 loss:3.7024\n",
      "epoch:7 loss:3.6941\n",
      "epoch:7 loss:3.6904\n",
      "epoch:7 loss:3.6840\n",
      "epoch:7 loss:3.6875\n",
      "epoch:7 loss:3.6866\n",
      "epoch:7 loss:3.7017\n",
      "epoch:7 loss:3.6889\n",
      "epoch:7 loss:3.6867\n",
      "epoch:7 loss:3.6878\n",
      "epoch:7 loss:3.6851\n",
      "epoch:7 loss:3.6865\n",
      "epoch:7 loss:3.6918\n",
      "epoch:7 loss:3.6877\n",
      "epoch:7 loss:3.6946\n",
      "epoch:8 loss:3.6942\n",
      "epoch:8 loss:3.6822\n",
      "epoch:8 loss:3.6892\n",
      "epoch:8 loss:3.6852\n",
      "epoch:8 loss:3.6845\n",
      "epoch:8 loss:3.6839\n",
      "epoch:8 loss:3.6795\n",
      "epoch:8 loss:3.6912\n",
      "epoch:8 loss:3.6914\n",
      "epoch:8 loss:3.6845\n",
      "epoch:8 loss:3.6998\n",
      "epoch:8 loss:3.6904\n",
      "epoch:8 loss:3.6983\n",
      "epoch:8 loss:3.6944\n",
      "epoch:8 loss:3.6908\n",
      "epoch:8 loss:3.6784\n",
      "epoch:8 loss:3.6804\n",
      "epoch:8 loss:3.6948\n",
      "epoch:8 loss:3.7033\n",
      "epoch:8 loss:3.6926\n",
      "epoch:8 loss:3.6810\n",
      "epoch:8 loss:3.6904\n",
      "epoch:8 loss:3.6869\n",
      "epoch:8 loss:3.6887\n",
      "epoch:8 loss:3.6818\n",
      "epoch:8 loss:3.6831\n",
      "epoch:8 loss:3.6977\n",
      "epoch:8 loss:3.6907\n",
      "epoch:8 loss:3.6984\n",
      "epoch:8 loss:3.6913\n",
      "epoch:8 loss:3.6837\n",
      "epoch:8 loss:3.6973\n",
      "epoch:8 loss:3.6875\n",
      "epoch:8 loss:3.6923\n",
      "epoch:8 loss:3.6975\n",
      "epoch:8 loss:3.6945\n",
      "epoch:8 loss:3.6839\n",
      "epoch:8 loss:3.6946\n",
      "epoch:8 loss:3.6830\n",
      "epoch:8 loss:3.6894\n",
      "epoch:9 loss:3.6860\n",
      "epoch:9 loss:3.6798\n",
      "epoch:9 loss:3.6860\n",
      "epoch:9 loss:3.6820\n",
      "epoch:9 loss:3.6864\n",
      "epoch:9 loss:3.6921\n",
      "epoch:9 loss:3.6916\n",
      "epoch:9 loss:3.6895\n",
      "epoch:9 loss:3.6967\n",
      "epoch:9 loss:3.6854\n",
      "epoch:9 loss:3.6925\n",
      "epoch:9 loss:3.6879\n",
      "epoch:9 loss:3.6872\n",
      "epoch:9 loss:3.6966\n",
      "epoch:9 loss:3.6909\n",
      "epoch:9 loss:3.6913\n",
      "epoch:9 loss:3.6851\n",
      "epoch:9 loss:3.6957\n",
      "epoch:9 loss:3.6863\n",
      "epoch:9 loss:3.6942\n",
      "epoch:9 loss:3.6796\n",
      "epoch:9 loss:3.6907\n",
      "epoch:9 loss:3.6931\n",
      "epoch:9 loss:3.6945\n",
      "epoch:9 loss:3.6950\n",
      "epoch:9 loss:3.6883\n",
      "epoch:9 loss:3.6822\n",
      "epoch:9 loss:3.6849\n",
      "epoch:9 loss:3.6842\n",
      "epoch:9 loss:3.6910\n",
      "epoch:9 loss:3.6936\n",
      "epoch:9 loss:3.6921\n",
      "epoch:9 loss:3.6892\n",
      "epoch:9 loss:3.6949\n",
      "epoch:9 loss:3.6858\n",
      "epoch:9 loss:3.6931\n",
      "epoch:9 loss:3.6870\n",
      "epoch:9 loss:3.6978\n",
      "epoch:9 loss:3.6889\n",
      "epoch:9 loss:3.7009\n",
      "epoch:10 loss:3.6873\n",
      "epoch:10 loss:3.6888\n",
      "epoch:10 loss:3.6839\n",
      "epoch:10 loss:3.6903\n",
      "epoch:10 loss:3.6904\n",
      "epoch:10 loss:3.6891\n",
      "epoch:10 loss:3.6964\n",
      "epoch:10 loss:3.6906\n",
      "epoch:10 loss:3.6902\n",
      "epoch:10 loss:3.6918\n",
      "epoch:10 loss:3.6915\n",
      "epoch:10 loss:3.6952\n",
      "epoch:10 loss:3.6916\n",
      "epoch:10 loss:3.6858\n",
      "epoch:10 loss:3.6876\n",
      "epoch:10 loss:3.6959\n",
      "epoch:10 loss:3.6953\n",
      "epoch:10 loss:3.6835\n",
      "epoch:10 loss:3.6926\n",
      "epoch:10 loss:3.6902\n",
      "epoch:10 loss:3.6886\n",
      "epoch:10 loss:3.6816\n",
      "epoch:10 loss:3.6857\n",
      "epoch:10 loss:3.6875\n",
      "epoch:10 loss:3.6904\n",
      "epoch:10 loss:3.6916\n",
      "epoch:10 loss:3.6860\n",
      "epoch:10 loss:3.6924\n",
      "epoch:10 loss:3.6976\n",
      "epoch:10 loss:3.6909\n",
      "epoch:10 loss:3.6911\n",
      "epoch:10 loss:3.6929\n",
      "epoch:10 loss:3.6865\n",
      "epoch:10 loss:3.6885\n",
      "epoch:10 loss:3.6893\n",
      "epoch:10 loss:3.6836\n",
      "epoch:10 loss:3.6925\n",
      "epoch:10 loss:3.6924\n",
      "epoch:10 loss:3.6902\n",
      "epoch:10 loss:3.6836\n"
     ]
    }
   ],
   "source": [
    "loss_hist = []\n",
    "for epoch in range(epochs):\n",
    "    # 提取训练数据\n",
    "    for img, lbl in dataloader:\n",
    "        # 前向运算\n",
    "        output = model(img)\n",
    "        # 计算损失\n",
    "        lbl = lbl.long()\n",
    "        loss = loss_fn(output, lbl)\n",
    "        # 反向传播\n",
    "        loss.backward()     # 计算梯度（参数.grad）\n",
    "        optimizer.step()    # 更新参数\n",
    "        optimizer.zero_grad()  # 梯度清零\n",
    "        loss_hist.append(loss.item())\n",
    "        print(f'epoch:{epoch+1} loss:{loss.item():.4f}')\n",
    "    "
   ]
  },
  {
   "cell_type": "code",
   "execution_count": 31,
   "metadata": {},
   "outputs": [
    {
     "data": {
      "image/png": "[encoded data removed]",
      "text/plain": [
       "<Figure size 640x480 with 1 Axes>"
      ]
     },
     "metadata": {},
     "output_type": "display_data"
    }
   ],
   "source": [
    "plt.plot(range(len(loss_hist)), loss_hist)\n",
    "plt.show()"
   ]
  }
 ],
 "metadata": {
  "kernelspec": {
   "display_name": "py312",
   "language": "python",
   "name": "python3"
  },
  "language_info": {
   "codemirror_mode": {
    "name": "ipython",
    "version": 3
   },
   "file_extension": ".py",
   "mimetype": "text/x-python",
   "name": "python",
   "nbconvert_exporter": "python",
   "pygments_lexer": "ipython3",
   "version": "3.12.8"
  }
 },
 "nbformat": 4,
 "nbformat_minor": 2
}
