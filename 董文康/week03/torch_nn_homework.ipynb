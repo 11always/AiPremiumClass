{
 "cells": [
  {
   "cell_type": "code",
   "execution_count": 6,
   "metadata": {},
   "outputs": [],
   "source": [
    "# 导入必要包\n",
    "import torch\n",
    "import torch.nn as nn\n",
    "import torch.optim as optim\n",
    "from torchvision.transforms import ToTensor     # 转换图像数据为张量\n",
    "from torchvision.datasets import KMNIST         # KMNIST数据集\n",
    "from torch.utils.data import DataLoader  # 数据加载器"
   ]
  },
  {
   "cell_type": "code",
   "execution_count": 5,
   "metadata": {},
   "outputs": [],
   "source": [
    "# 加载数据集\n",
    "train_data = KMNIST(root='./kuzushiji_data', train=True, download=True, transform=ToTensor())\n",
    "test_data = KMNIST(root='./kuzushiji_data', train=False, download=True, transform=ToTensor())"
   ]
  },
  {
   "cell_type": "code",
   "execution_count": 8,
   "metadata": {},
   "outputs": [],
   "source": [
    "train_dl = DataLoader(train_data, batch_size=BATCH_SIZE, shuffle=True)"
   ]
  },
  {
   "cell_type": "code",
   "execution_count": 9,
   "metadata": {},
   "outputs": [],
   "source": [
    "# 定义模型\n",
    "model = nn.Sequential(\n",
    "    nn.Linear(28 * 28, 128),\n",
    "    nn.Sigmoid(),\n",
    "    nn.Linear(128, 10),\n",
    ")"
   ]
  },
  {
   "cell_type": "code",
   "execution_count": 10,
   "metadata": {},
   "outputs": [],
   "source": [
    "# 损失函数&优化器\n",
    "loss_fn = nn.CrossEntropyLoss()\n",
    "optimizer = optim.SGD(model.parameters(), lr=LR)"
   ]
  },
  {
   "cell_type": "code",
   "execution_count": 16,
   "metadata": {},
   "outputs": [],
   "source": [
    "# 定义超参数\n",
    "LR = 0.01\n",
    "epochs = 20\n",
    "BATCH_SIZE = 128"
   ]
  },
  {
   "cell_type": "code",
   "execution_count": 21,
   "metadata": {},
   "outputs": [
    {
     "name": "stdout",
     "output_type": "stream",
     "text": [
      "Epoch 1/20, Loss: 0.997615396976471\n",
      "Epoch 2/20, Loss: 0.9751128554344177\n",
      "Epoch 3/20, Loss: 0.9835259914398193\n",
      "Epoch 4/20, Loss: 0.8979057669639587\n",
      "Epoch 5/20, Loss: 0.911224365234375\n",
      "Epoch 6/20, Loss: 0.9217192530632019\n",
      "Epoch 7/20, Loss: 1.0250803232192993\n",
      "Epoch 8/20, Loss: 1.1328314542770386\n",
      "Epoch 9/20, Loss: 0.9818232655525208\n",
      "Epoch 10/20, Loss: 0.925182044506073\n",
      "Epoch 11/20, Loss: 0.8895300030708313\n",
      "Epoch 12/20, Loss: 1.1196788549423218\n",
      "Epoch 13/20, Loss: 0.835156261920929\n",
      "Epoch 14/20, Loss: 0.7586355209350586\n",
      "Epoch 15/20, Loss: 0.9511297345161438\n",
      "Epoch 16/20, Loss: 0.9813889861106873\n",
      "Epoch 17/20, Loss: 1.0364006757736206\n",
      "Epoch 18/20, Loss: 0.9063051342964172\n",
      "Epoch 19/20, Loss: 0.739191472530365\n",
      "Epoch 20/20, Loss: 0.838789701461792\n"
     ]
    }
   ],
   "source": [
    "for epoch in range(epochs):\n",
    "    for data, target in train_dl:\n",
    "        # 前向运算\n",
    "        output = model(data.reshape(-1, 28 * 28))\n",
    "        # 计算损失\n",
    "        loss = loss_fn(output, target)\n",
    "        # 反向传播\n",
    "        optimizer.zero_grad()   # 梯度清零\n",
    "        loss.backward()         # 反向传播\n",
    "        optimizer.step()        # 更新参数\n",
    "    \n",
    "    print(f'Epoch {epoch + 1}/{epochs}, Loss: {loss.item()}')\n",
    "\n"
   ]
  },
  {
   "cell_type": "code",
   "execution_count": 20,
   "metadata": {},
   "outputs": [
    {
     "name": "stdout",
     "output_type": "stream",
     "text": [
      "Accuracy: 58.05%\n"
     ]
    }
   ],
   "source": [
    "# 测试模型\n",
    "test_dl = DataLoader(test_data, batch_size=BATCH_SIZE)\n",
    "\n",
    "correct = 0\n",
    "total = 0\n",
    "with torch.no_grad():\n",
    "    for data, target in test_dl:\n",
    "        output = model(data.reshape(-1, 28 * 28))\n",
    "        _, predicted = torch.max(output, 1)\n",
    "        total += target.size(0)\n",
    "        correct += (predicted == target).sum().item()\n",
    "\n",
    "print(f'Accuracy: {correct / total * 100:.2f}%')"
   ]
  }
 ],
 "metadata": {
  "kernelspec": {
   "display_name": "py3127",
   "language": "python",
   "name": "python3"
  },
  "language_info": {
   "codemirror_mode": {
    "name": "ipython",
    "version": 3
   },
   "file_extension": ".py",
   "mimetype": "text/x-python",
   "name": "python",
   "nbconvert_exporter": "python",
   "pygments_lexer": "ipython3",
   "version": "3.12.9"
  }
 },
 "nbformat": 4,
 "nbformat_minor": 2
}
