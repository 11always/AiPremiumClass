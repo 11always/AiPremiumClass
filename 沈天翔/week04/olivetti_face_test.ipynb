{
 "cells": [
  {
   "cell_type": "code",
   "execution_count": 10,
   "metadata": {},
   "outputs": [
    {
     "name": "stdout",
     "output_type": "stream",
     "text": [
      "1.6.1\n"
     ]
    }
   ],
   "source": [
    "import sklearn\n",
    "from sklearn.datasets import fetch_olivetti_faces\n",
    "from sklearn.datasets import fetch_openml\n",
    "import os\n",
    "\n",
    "print(sklearn.__version__)\n",
    "\n",
    "datasets_path = \"../../../../datasets_data/faces_data\"\n",
    "os.environ['OPENML_URL'] = 'https://openml.mirror.example.com/api/v1/json/'"
   ]
  },
  {
   "cell_type": "code",
   "execution_count": 26,
   "metadata": {},
   "outputs": [
    {
     "name": "stdout",
     "output_type": "stream",
     "text": [
      "(400, 4096)\n",
      "(400,)\n"
     ]
    }
   ],
   "source": [
    "\n",
    "# olivetti_faces = fetch_olivetti_faces(data_home=datasets_path, shuffle=True)\n",
    "olivetti_faces = fetch_openml(name='olivetti_faces',\n",
    "                              data_home=datasets_path,\n",
    "                              version=1,\n",
    "                              as_frame=False\n",
    ")\n",
    "\n",
    "print(olivetti_faces.data.shape)\n",
    "print(olivetti_faces.target.shape)\n",
    "# print(olivetti_faces.images.shape)\n"
   ]
  },
  {
   "cell_type": "code",
   "execution_count": 24,
   "metadata": {},
   "outputs": [
    {
     "name": "stdout",
     "output_type": "stream",
     "text": [
      "{'29', '30', '24', '11', '33', '3', '23', '22', '13', '32', '26', '31', '0', '9', '7', '12', '5', '14', '1', '2', '16', '34', '8', '18', '25', '35', '21', '28', '10', '37', '36', '6', '27', '38', '15', '20', '19', '4', '39', '17'}\n",
      "\n",
      "40\n"
     ]
    }
   ],
   "source": [
    "set1 = set(olivetti_faces.target)\n",
    "print(set1)\n",
    "print()\n",
    "\n",
    "print(len(set1))"
   ]
  },
  {
   "cell_type": "code",
   "execution_count": null,
   "metadata": {},
   "outputs": [
    {
     "name": "stdout",
     "output_type": "stream",
     "text": [
      "最小像素值: 0.0\n",
      "最大像素值: 1.0\n"
     ]
    }
   ],
   "source": [
    "face_data, face_target = olivetti_faces.data, olivetti_faces.target\n",
    "\n",
    "print(\"最小像素值:\", face_data.min())\n",
    "print(\"最大像素值:\", face_data.max())"
   ]
  },
  {
   "cell_type": "code",
   "execution_count": 27,
   "metadata": {},
   "outputs": [
    {
     "name": "stdout",
     "output_type": "stream",
     "text": [
      "[[0.30991736 0.3677686  0.41735536 ... 0.15289256 0.16115703 0.1570248 ]\n",
      " [0.45454547 0.47107437 0.5123967  ... 0.15289256 0.15289256 0.15289256]\n",
      " [0.3181818  0.40082645 0.49173555 ... 0.14049587 0.14876033 0.15289256]\n",
      " ...\n",
      " [0.5        0.53305787 0.607438   ... 0.17768595 0.14876033 0.19008264]\n",
      " [0.21487603 0.21900827 0.21900827 ... 0.57438016 0.59090906 0.60330576]\n",
      " [0.5165289  0.46280992 0.28099173 ... 0.35950413 0.3553719  0.38429752]]\n"
     ]
    }
   ],
   "source": [
    "print(olivetti_faces.data)"
   ]
  },
  {
   "cell_type": "code",
   "execution_count": 19,
   "metadata": {},
   "outputs": [
    {
     "name": "stdout",
     "output_type": "stream",
     "text": [
      "['0' '0' '0' '0' '0' '0' '0' '0' '0' '0' '1' '1' '1' '1' '1' '1' '1' '1'\n",
      " '1' '1' '2' '2' '2' '2' '2' '2' '2' '2' '2' '2' '3' '3' '3' '3' '3' '3'\n",
      " '3' '3' '3' '3' '4' '4' '4' '4' '4' '4' '4' '4' '4' '4' '5' '5' '5' '5'\n",
      " '5' '5' '5' '5' '5' '5' '6' '6' '6' '6' '6' '6' '6' '6' '6' '6' '7' '7'\n",
      " '7' '7' '7' '7' '7' '7' '7' '7' '8' '8' '8' '8' '8' '8' '8' '8' '8' '8'\n",
      " '9' '9' '9' '9' '9' '9' '9' '9' '9' '9' '10' '10' '10' '10' '10' '10'\n",
      " '10' '10' '10' '10' '11' '11' '11' '11' '11' '11' '11' '11' '11' '11'\n",
      " '12' '12' '12' '12' '12' '12' '12' '12' '12' '12' '13' '13' '13' '13'\n",
      " '13' '13' '13' '13' '13' '13' '14' '14' '14' '14' '14' '14' '14' '14'\n",
      " '14' '14' '15' '15' '15' '15' '15' '15' '15' '15' '15' '15' '16' '16'\n",
      " '16' '16' '16' '16' '16' '16' '16' '16' '17' '17' '17' '17' '17' '17'\n",
      " '17' '17' '17' '17' '18' '18' '18' '18' '18' '18' '18' '18' '18' '18'\n",
      " '19' '19' '19' '19' '19' '19' '19' '19' '19' '19' '20' '20' '20' '20'\n",
      " '20' '20' '20' '20' '20' '20' '21' '21' '21' '21' '21' '21' '21' '21'\n",
      " '21' '21' '22' '22' '22' '22' '22' '22' '22' '22' '22' '22' '23' '23'\n",
      " '23' '23' '23' '23' '23' '23' '23' '23' '24' '24' '24' '24' '24' '24'\n",
      " '24' '24' '24' '24' '25' '25' '25' '25' '25' '25' '25' '25' '25' '25'\n",
      " '26' '26' '26' '26' '26' '26' '26' '26' '26' '26' '27' '27' '27' '27'\n",
      " '27' '27' '27' '27' '27' '27' '28' '28' '28' '28' '28' '28' '28' '28'\n",
      " '28' '28' '29' '29' '29' '29' '29' '29' '29' '29' '29' '29' '30' '30'\n",
      " '30' '30' '30' '30' '30' '30' '30' '30' '31' '31' '31' '31' '31' '31'\n",
      " '31' '31' '31' '31' '32' '32' '32' '32' '32' '32' '32' '32' '32' '32'\n",
      " '33' '33' '33' '33' '33' '33' '33' '33' '33' '33' '34' '34' '34' '34'\n",
      " '34' '34' '34' '34' '34' '34' '35' '35' '35' '35' '35' '35' '35' '35'\n",
      " '35' '35' '36' '36' '36' '36' '36' '36' '36' '36' '36' '36' '37' '37'\n",
      " '37' '37' '37' '37' '37' '37' '37' '37' '38' '38' '38' '38' '38' '38'\n",
      " '38' '38' '38' '38' '39' '39' '39' '39' '39' '39' '39' '39' '39' '39']\n"
     ]
    }
   ],
   "source": [
    "print(olivetti_faces.target)"
   ]
  },
  {
   "cell_type": "code",
   "execution_count": 32,
   "metadata": {},
   "outputs": [
    {
     "data": {
      "text/plain": [
       "<matplotlib.image.AxesImage at 0x209af300050>"
      ]
     },
     "execution_count": 32,
     "metadata": {},
     "output_type": "execute_result"
    },
    {
     "data": {
      "image/png": "[encoded data removed]",
      "text/plain": [
       "<Figure size 500x500 with 1 Axes>"
      ]
     },
     "metadata": {},
     "output_type": "display_data"
    }
   ],
   "source": [
    "import matplotlib.pyplot as plt\n",
    "import numpy as np\n",
    "\n",
    "\n",
    "image_matrix = face_data[1].reshape(64, 64)\n",
    "\n",
    "# 创建画布和坐标轴\n",
    "fig, ax = plt.subplots(figsize=(5, 5))\n",
    "\n",
    "# 隐藏坐标轴\n",
    "ax.set_xticks([])\n",
    "ax.set_yticks([])\n",
    "ax.set_title(\"face_data\")\n",
    "\n",
    "ax.imshow(image_matrix,\n",
    "            cmap=plt.cm.gray,    # 使用灰度颜色映射\n",
    "            vmin=0,              # 显式设置最小值\n",
    "            vmax=1)              # 显式设置最大值"
   ]
  },
  {
   "cell_type": "code",
   "execution_count": 33,
   "metadata": {},
   "outputs": [],
   "source": [
    "import torch\n",
    "import torch.nn as nn"
   ]
  },
  {
   "cell_type": "code",
   "execution_count": 49,
   "metadata": {},
   "outputs": [
    {
     "name": "stdout",
     "output_type": "stream",
     "text": [
      "object\n",
      "int32\n"
     ]
    }
   ],
   "source": [
    "print(face_target.dtype)\n",
    "\n",
    "face_target = face_target.astype(int)\n",
    "\n",
    "print(face_target.dtype)"
   ]
  },
  {
   "cell_type": "code",
   "execution_count": 52,
   "metadata": {},
   "outputs": [],
   "source": [
    "face_data = torch.tensor(face_data, dtype=torch.float)\n",
    "face_target = torch.tensor(face_target, dtype=torch.long)"
   ]
  },
  {
   "cell_type": "code",
   "execution_count": 53,
   "metadata": {},
   "outputs": [
    {
     "data": {
      "text/plain": [
       "torch.Size([400, 4096])"
      ]
     },
     "execution_count": 53,
     "metadata": {},
     "output_type": "execute_result"
    }
   ],
   "source": [
    "face_data.shape"
   ]
  },
  {
   "cell_type": "code",
   "execution_count": 55,
   "metadata": {},
   "outputs": [
    {
     "data": {
      "text/plain": [
       "torch.Size([400])"
      ]
     },
     "execution_count": 55,
     "metadata": {},
     "output_type": "execute_result"
    }
   ],
   "source": [
    "face_target.shape"
   ]
  },
  {
   "cell_type": "code",
   "execution_count": 56,
   "metadata": {},
   "outputs": [
    {
     "data": {
      "text/plain": [
       "(tensor([0.3099, 0.3678, 0.4174,  ..., 0.1529, 0.1612, 0.1570]), tensor(0))"
      ]
     },
     "execution_count": 56,
     "metadata": {},
     "output_type": "execute_result"
    }
   ],
   "source": [
    "dataset = [(img,lbl) for img,lbl in zip(face_data, face_target)]\n",
    "dataset[0]"
   ]
  },
  {
   "cell_type": "code",
   "execution_count": 62,
   "metadata": {},
   "outputs": [
    {
     "name": "stdout",
     "output_type": "stream",
     "text": [
      "40\n"
     ]
    }
   ],
   "source": [
    "train_data = torch.utils.data.DataLoader(dataset, batch_size=10, shuffle=True)\n",
    "print(len(train_data)) # 分组数"
   ]
  },
  {
   "cell_type": "code",
   "execution_count": null,
   "metadata": {},
   "outputs": [],
   "source": [
    "#  定义神经网络模型\n",
    "class MLPClassifier(nn.Module):\n",
    "    def __init__(self):\n",
    "        super().__init__()\n",
    "        self.layers = nn.Sequential(\n",
    "            nn.Linear(64*64, 128),\n",
    "            nn.ReLU(),\n",
    "            nn.Dropout(0.5),  # 正则化\n",
    "            nn.Linear(128, 64),\n",
    "            nn.ReLU(),\n",
    "            nn.Dropout(0.5),\n",
    "            nn.Linear(64, 40)  # Olivetti有40个类别\n",
    "        )\n",
    "\n",
    "    def forward(self, x):\n",
    "        return self.layers(x)\n",
    "\n",
    "model = MLPClassifier()"
   ]
  },
  {
   "cell_type": "code",
   "execution_count": 70,
   "metadata": {},
   "outputs": [],
   "source": [
    "# 训练配置\n",
    "import torch.optim as optim\n",
    "criterion = nn.CrossEntropyLoss()\n",
    "optimizers = {\n",
    "    \"Adam\": optim.Adam(model.parameters(), lr=0.001, weight_decay=1e-4),  # L2正则化\n",
    "    \"SGD\": optim.SGD(model.parameters(), lr=0.01, momentum=0.9, weight_decay=1e-4),\n",
    "    \"RMSProp\": optim.RMSprop(model.parameters(), lr=0.001, weight_decay=1e-4)\n",
    "}"
   ]
  },
  {
   "cell_type": "code",
   "execution_count": 67,
   "metadata": {},
   "outputs": [],
   "source": [
    "# 训练函数\n",
    "def train_model(optimizer_name, num_epochs=20):\n",
    "    optimizer = optimizers[optimizer_name]\n",
    "    train_losses = []\n",
    "\n",
    "    for epoch in range(num_epochs):\n",
    "        model.train()\n",
    "        running_loss = 0.0\n",
    "\n",
    "        for images, labels in train_data:\n",
    "            optimizer.zero_grad()\n",
    "            outputs = model(images)\n",
    "            loss = criterion(outputs, labels)\n",
    "            loss.backward()\n",
    "            optimizer.step()\n",
    "\n",
    "            running_loss += loss.item() * images.size(0)\n",
    "\n",
    "        epoch_loss = running_loss / len(train_data.dataset)\n",
    "        train_losses.append(epoch_loss)\n",
    "        print(f\"{optimizer_name} Epoch {epoch+1}/{num_epochs} Loss: {epoch_loss:.4f}\")\n",
    "\n",
    "    return train_losses"
   ]
  },
  {
   "cell_type": "code",
   "execution_count": null,
   "metadata": {},
   "outputs": [
    {
     "name": "stdout",
     "output_type": "stream",
     "text": [
      "Adam Epoch 1/20 Loss: 3.7578\n",
      "Adam Epoch 2/20 Loss: 3.7083\n",
      "Adam Epoch 3/20 Loss: 3.6919\n",
      "Adam Epoch 4/20 Loss: 3.6912\n",
      "Adam Epoch 5/20 Loss: 3.6901\n",
      "Adam Epoch 6/20 Loss: 3.6918\n",
      "Adam Epoch 7/20 Loss: 3.6914\n",
      "Adam Epoch 8/20 Loss: 3.6908\n",
      "Adam Epoch 9/20 Loss: 3.6913\n",
      "Adam Epoch 10/20 Loss: 3.6910\n",
      "Adam Epoch 11/20 Loss: 3.6896\n",
      "Adam Epoch 12/20 Loss: 3.6906\n",
      "Adam Epoch 13/20 Loss: 3.6896\n",
      "Adam Epoch 14/20 Loss: 3.6901\n",
      "Adam Epoch 15/20 Loss: 3.6903\n",
      "Adam Epoch 16/20 Loss: 3.6906\n",
      "Adam Epoch 17/20 Loss: 3.6909\n",
      "Adam Epoch 18/20 Loss: 3.6915\n",
      "Adam Epoch 19/20 Loss: 3.6904\n",
      "Adam Epoch 20/20 Loss: 3.6897\n",
      "SGD Epoch 1/20 Loss: 3.6933\n",
      "SGD Epoch 2/20 Loss: 3.6929\n",
      "SGD Epoch 3/20 Loss: 3.6932\n",
      "SGD Epoch 4/20 Loss: 3.6917\n",
      "SGD Epoch 5/20 Loss: 3.6917\n",
      "SGD Epoch 6/20 Loss: 3.6928\n",
      "SGD Epoch 7/20 Loss: 3.6917\n",
      "SGD Epoch 8/20 Loss: 3.6910\n",
      "SGD Epoch 9/20 Loss: 3.6910\n",
      "SGD Epoch 10/20 Loss: 3.6927\n",
      "SGD Epoch 11/20 Loss: 3.6939\n",
      "SGD Epoch 12/20 Loss: 3.6915\n",
      "SGD Epoch 13/20 Loss: 3.6930\n",
      "SGD Epoch 14/20 Loss: 3.6910\n",
      "SGD Epoch 15/20 Loss: 3.6931\n",
      "SGD Epoch 16/20 Loss: 3.6914\n",
      "SGD Epoch 17/20 Loss: 3.6918\n",
      "SGD Epoch 18/20 Loss: 3.6928\n",
      "SGD Epoch 19/20 Loss: 3.6931\n",
      "SGD Epoch 20/20 Loss: 3.6916\n",
      "RMSProp Epoch 1/20 Loss: 4.1044\n",
      "RMSProp Epoch 2/20 Loss: 3.6918\n",
      "RMSProp Epoch 3/20 Loss: 3.6902\n",
      "RMSProp Epoch 4/20 Loss: 3.6912\n",
      "RMSProp Epoch 5/20 Loss: 3.6897\n",
      "RMSProp Epoch 6/20 Loss: 3.6901\n",
      "RMSProp Epoch 7/20 Loss: 3.6903\n",
      "RMSProp Epoch 8/20 Loss: 3.6902\n",
      "RMSProp Epoch 9/20 Loss: 3.6895\n",
      "RMSProp Epoch 10/20 Loss: 3.6920\n",
      "RMSProp Epoch 11/20 Loss: 3.6909\n",
      "RMSProp Epoch 12/20 Loss: 3.6898\n",
      "RMSProp Epoch 13/20 Loss: 3.6898\n",
      "RMSProp Epoch 14/20 Loss: 3.6907\n",
      "RMSProp Epoch 15/20 Loss: 3.6907\n",
      "RMSProp Epoch 16/20 Loss: 3.6914\n",
      "RMSProp Epoch 17/20 Loss: 3.6912\n",
      "RMSProp Epoch 18/20 Loss: 3.6908\n",
      "RMSProp Epoch 19/20 Loss: 3.6898\n",
      "RMSProp Epoch 20/20 Loss: 3.6935\n"
     ]
    },
    {
     "data": {
      "image/png": "[encoded data removed]",
      "text/plain": [
       "<Figure size 1200x600 with 1 Axes>"
      ]
     },
     "metadata": {},
     "output_type": "display_data"
    }
   ],
   "source": [
    "# 执行训练和可视化\n",
    "\n",
    "plt.figure(figsize=(12, 6))\n",
    "\n",
    "for optimizer_name in [\"Adam\", \"SGD\", \"RMSProp\"]:\n",
    "    losses = train_model(optimizer_name, num_epochs=20)\n",
    "    plt.plot(losses, label=optimizer_name)\n",
    "\n",
    "plt.title(\"Training Loss Comparison (MLP with Regularization)\")\n",
    "plt.xlabel(\"Epoch\")\n",
    "plt.ylabel(\"Loss\")\n",
    "plt.legend()\n",
    "plt.grid(True)\n",
    "plt.show()"
   ]
  }
 ],
 "metadata": {
  "kernelspec": {
   "display_name": "py312",
   "language": "python",
   "name": "python3"
  },
  "language_info": {
   "codemirror_mode": {
    "name": "ipython",
    "version": 3
   },
   "file_extension": ".py",
   "mimetype": "text/x-python",
   "name": "python",
   "nbconvert_exporter": "python",
   "pygments_lexer": "ipython3",
   "version": "3.12.3"
  }
 },
 "nbformat": 4,
 "nbformat_minor": 2
}
