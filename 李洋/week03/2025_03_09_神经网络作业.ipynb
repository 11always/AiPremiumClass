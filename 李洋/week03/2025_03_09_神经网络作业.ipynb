{
 "cells": [
  {
   "cell_type": "code",
   "execution_count": 10,
   "id": "297ae57f",
   "metadata": {},
   "outputs": [],
   "source": [
    "#数据包导入\n",
    "import torch\n",
    "import torch.nn as nn\n",
    "from torch.utils.data import DataLoader\n",
    "from torchvision.transforms import ToTensor\n",
    "from torchvision.datasets import KMNIST\n",
    "import matplotlib.pyplot as plt\n",
    "\n",
    "#数据集导入\n",
    "#训练集\n",
    "train_data = KMNIST(root=\"data\", train=True, download=True, transform=ToTensor())\n",
    "#测试集\n",
    "test_data = KMNIST(root= \"data\", train=False, download=True, transform=ToTensor())\n"
   ]
  },
  {
   "cell_type": "code",
   "execution_count": 11,
   "id": "ea4c2f14",
   "metadata": {},
   "outputs": [],
   "source": [
    "#超参数设计\n",
    "epochs = 10\n",
    "Lr = [0.1, 0.01]\n",
    "Batch_size = [64, 128]"
   ]
  },
  {
   "cell_type": "code",
   "execution_count": 12,
   "id": "ac4b56fe",
   "metadata": {},
   "outputs": [],
   "source": [
    "Model = nn.Sequential(\n",
    "    nn.Linear(784,512),\n",
    "    nn.Sigmoid(),\n",
    "    nn.Linear(512,256),\n",
    "    nn.ReLU(),\n",
    "    nn.Linear(256,128),\n",
    "    nn.ReLU(),\n",
    "    nn.Linear(128,10)\n",
    ")"
   ]
  },
  {
   "cell_type": "code",
   "execution_count": 15,
   "id": "a3f7d44d",
   "metadata": {},
   "outputs": [
    {
     "name": "stdout",
     "output_type": "stream",
     "text": [
      "Epochs :0,lr: 0.1,batch_size: 64,loss: 1.2935144901275635,acc: 49.3500%\n",
      "Epochs :5,lr: 0.1,batch_size: 64,loss: 2.2779979705810547,acc: 10.2033%\n",
      "Epochs :0,lr: 0.1,batch_size: 128,loss: 2.3015520572662354,acc: 10.0917%\n",
      "Epochs :5,lr: 0.1,batch_size: 128,loss: 2.310360908508301,acc: 9.8217%\n",
      "Epochs :0,lr: 0.01,batch_size: 64,loss: 0.25558722019195557,acc: 85.0300%\n",
      "Epochs :5,lr: 0.01,batch_size: 64,loss: 0.5244665741920471,acc: 94.7517%\n",
      "Epochs :0,lr: 0.01,batch_size: 128,loss: 0.220633402466774,acc: 81.8033%\n",
      "Epochs :5,lr: 0.01,batch_size: 128,loss: 0.2737196981906891,acc: 95.9383%\n"
     ]
    }
   ],
   "source": [
    "#对模型进行训练\n",
    "# for i in range(epochs):\n",
    "for lr in Lr:\n",
    "    for bs in Batch_size:\n",
    "        #模型设计\n",
    "        Model = nn.Sequential(\n",
    "            nn.Linear(784,512),\n",
    "            nn.Sigmoid(),\n",
    "            nn.Linear(512,256),\n",
    "            nn.ReLU(),\n",
    "            nn.Linear(256,128),\n",
    "            nn.ReLU(),\n",
    "            nn.Linear(128,10)\n",
    "        )\n",
    "        #处理训练集\n",
    "        train_dl = DataLoader(train_data,batch_size=bs, shuffle=True )\n",
    "        #损失函数设计\n",
    "        loss_fn = nn.CrossEntropyLoss()\n",
    "        #优化器设置\n",
    "        optimizer = torch.optim.AdamW(Model.parameters(),lr=lr)\n",
    "        for i in range(epochs):\n",
    "            correct = 0\n",
    "            total = 0\n",
    "            for x,y in train_dl:\n",
    "                perd = Model(x.reshape(-1,784))\n",
    "                loss_val = loss_fn(perd,y)\n",
    "                optimizer.zero_grad()\n",
    "                loss_val.backward()\n",
    "                optimizer.step()\n",
    "                _,perd1 = torch.max(perd,1)\n",
    "                total += y.size(0)\n",
    "                correct += (perd1 == y).sum().item()\n",
    "            if i%5 == 0:\n",
    "                acc = correct/total*100\n",
    "                print(f\"Epochs :{i},lr: {lr},batch_size: {bs},loss: {loss_val},acc: {acc:>.4f}%\")\n",
    "                correct = 0\n",
    "                total = 0"
   ]
  },
  {
   "cell_type": "code",
   "execution_count": 14,
   "id": "b70efd27",
   "metadata": {},
   "outputs": [
    {
     "name": "stdout",
     "output_type": "stream",
     "text": [
      "预测准确率为88.1700%\n"
     ]
    }
   ],
   "source": [
    "#在进行模型验证\n",
    "#处理测试集\n",
    "test_dl = DataLoader(test_data,batch_size=64)\n",
    "#总样本数初始化\n",
    "total = 0\n",
    "#预测正确的总样本数\n",
    "correct = 0\n",
    "#因为进入推理模式不进行梯度更新\n",
    "with torch.no_grad():\n",
    "    for data,target in test_dl:\n",
    "        output=Model(data.reshape(-1,784))\n",
    "        #选取预测可能性最大的一个类\n",
    "        _,perd = torch.max(output,1)\n",
    "        total += target.size(0)\n",
    "        correct += (perd == target).sum().item()\n",
    "print(f\"预测准确率为{correct/total*100:>.4f}%\")"
   ]
  }
 ],
 "metadata": {
  "kernelspec": {
   "display_name": "Python 3 (ipykernel)",
   "language": "python",
   "name": "python3"
  },
  "language_info": {
   "codemirror_mode": {
    "name": "ipython",
    "version": 3
   },
   "file_extension": ".py",
   "mimetype": "text/x-python",
   "name": "python",
   "nbconvert_exporter": "python",
   "pygments_lexer": "ipython3",
   "version": "3.9.13"
  },
  "toc": {
   "base_numbering": 1,
   "nav_menu": {},
   "number_sections": true,
   "sideBar": true,
   "skip_h1_title": false,
   "title_cell": "Table of Contents",
   "title_sidebar": "Contents",
   "toc_cell": false,
   "toc_position": {},
   "toc_section_display": true,
   "toc_window_display": false
  }
 },
 "nbformat": 4,
 "nbformat_minor": 5
}
