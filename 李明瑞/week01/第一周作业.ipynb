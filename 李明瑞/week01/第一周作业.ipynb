{
 "cells": [
  {
   "cell_type": "code",
   "execution_count": 3,
   "metadata": {},
   "outputs": [
    {
     "data": {
      "text/plain": [
       "array([1, 2, 3])"
      ]
     },
     "execution_count": 3,
     "metadata": {},
     "output_type": "execute_result"
    }
   ],
   "source": [
    "#1. numpy 多维数组运算库\n",
    "#数据类型：bool_  int_  uint_  float_  complex_\n",
    "#numpy的数据类型实际上是dtype对象的实例，对应唯一的字符\n",
    "# ndarray  numpy数组  由数组实际数据与描述这些数据的元数据组成\n",
    "#1.1 numpy数组创建\n",
    "#用列表转换\n",
    "import numpy as np\n",
    "a = [1,2,3]\n",
    "b = np.array(a)\n",
    "b"
   ]
  },
  {
   "cell_type": "code",
   "execution_count": 4,
   "metadata": {},
   "outputs": [
    {
     "name": "stdout",
     "output_type": "stream",
     "text": [
      "[1. 2. 3.] float64\n",
      "[3 4 5] int32\n"
     ]
    },
    {
     "data": {
      "text/plain": [
       "array([4., 5., 6.])"
      ]
     },
     "execution_count": 4,
     "metadata": {},
     "output_type": "execute_result"
    }
   ],
   "source": [
    "arr1 = np.array([1,2,3], float)\n",
    "arr2 = np.array((3,4,5),int)\n",
    "arr3 = np.array([4,5,6],dtype = float)\n",
    "print(arr1, arr1.dtype)  #打印时省略了array修饰\n",
    "print(arr2, arr2.dtype)  #Jupyter Notebook默认会显示最后赋值的变量结果  因此用print\n",
    "arr3  "
   ]
  },
  {
   "cell_type": "code",
   "execution_count": 5,
   "metadata": {},
   "outputs": [
    {
     "data": {
      "text/plain": [
       "array([[1, 2, 3],\n",
       "       [4, 5, 6],\n",
       "       [7, 8, 9]])"
      ]
     },
     "execution_count": 5,
     "metadata": {},
     "output_type": "execute_result"
    }
   ],
   "source": [
    "#多维数组创建\n",
    "a = np.array(([1,2,3],[4,5,6],[7,8,9]))\n",
    "a"
   ]
  },
  {
   "cell_type": "code",
   "execution_count": 6,
   "metadata": {},
   "outputs": [
    {
     "data": {
      "text/plain": [
       "array([[0., 0., 0., 0.],\n",
       "       [0., 0., 0., 0.],\n",
       "       [0., 0., 0., 0.]])"
      ]
     },
     "execution_count": 6,
     "metadata": {},
     "output_type": "execute_result"
    }
   ],
   "source": [
    "#特殊数组创建\n",
    "a = np.zeros((3,4), float)  #全0数组\n",
    "a"
   ]
  },
  {
   "cell_type": "code",
   "execution_count": 7,
   "metadata": {},
   "outputs": [
    {
     "data": {
      "text/plain": [
       "array([[1., 1.],\n",
       "       [1., 1.],\n",
       "       [1., 1.]])"
      ]
     },
     "execution_count": 7,
     "metadata": {},
     "output_type": "execute_result"
    }
   ],
   "source": [
    "b = np.ones((3,2))  #全1数组\n",
    "b"
   ]
  },
  {
   "cell_type": "code",
   "execution_count": 8,
   "metadata": {},
   "outputs": [
    {
     "data": {
      "text/plain": [
       "array([100,  90,  80,  70,  60,  50,  40,  30,  20])"
      ]
     },
     "execution_count": 8,
     "metadata": {},
     "output_type": "execute_result"
    }
   ],
   "source": [
    "c = np.arange(100,10,-10)  #等差数组\n",
    "c"
   ]
  },
  {
   "cell_type": "code",
   "execution_count": 9,
   "metadata": {},
   "outputs": [
    {
     "data": {
      "text/plain": [
       "array([[1., 0., 0.],\n",
       "       [0., 1., 0.],\n",
       "       [0., 0., 1.]])"
      ]
     },
     "execution_count": 9,
     "metadata": {},
     "output_type": "execute_result"
    }
   ],
   "source": [
    "d = np.eye(3)  #单位矩阵1\n",
    "d"
   ]
  },
  {
   "cell_type": "code",
   "execution_count": 10,
   "metadata": {},
   "outputs": [
    {
     "data": {
      "text/plain": [
       "array([[1., 0., 0.],\n",
       "       [0., 1., 0.],\n",
       "       [0., 0., 1.]])"
      ]
     },
     "execution_count": 10,
     "metadata": {},
     "output_type": "execute_result"
    }
   ],
   "source": [
    "e = np.identity(3)  #单位矩阵2\n",
    "e "
   ]
  },
  {
   "cell_type": "code",
   "execution_count": 11,
   "metadata": {},
   "outputs": [
    {
     "data": {
      "text/plain": [
       "array([0.52842422, 0.01466973, 0.91258917, 0.7065939 ])"
      ]
     },
     "execution_count": 11,
     "metadata": {},
     "output_type": "execute_result"
    }
   ],
   "source": [
    "f = np.random.rand(4)  #随机数数组\n",
    "f"
   ]
  },
  {
   "cell_type": "code",
   "execution_count": 12,
   "metadata": {},
   "outputs": [
    {
     "data": {
      "text/plain": [
       "array([[0, 0, 0],\n",
       "       [0, 0, 0]])"
      ]
     },
     "execution_count": 12,
     "metadata": {},
     "output_type": "execute_result"
    }
   ],
   "source": [
    "g = np.zeros_like([[1,2,3],[4,5,6]])  #0矩阵\n",
    "g"
   ]
  },
  {
   "cell_type": "code",
   "execution_count": 13,
   "metadata": {},
   "outputs": [
    {
     "data": {
      "text/plain": [
       "array([[5, 5, 5],\n",
       "       [5, 5, 5]])"
      ]
     },
     "execution_count": 13,
     "metadata": {},
     "output_type": "execute_result"
    }
   ],
   "source": [
    "h = np.full((2,3),5)  #按形状填充特定值\n",
    "h"
   ]
  },
  {
   "cell_type": "code",
   "execution_count": 14,
   "metadata": {},
   "outputs": [
    {
     "data": {
      "text/plain": [
       "array([[3, 0, 0],\n",
       "       [0, 4, 0],\n",
       "       [0, 0, 5]])"
      ]
     },
     "execution_count": 14,
     "metadata": {},
     "output_type": "execute_result"
    }
   ],
   "source": [
    "i = np.diag([3,4,5])  #对角矩阵\n",
    "i"
   ]
  },
  {
   "cell_type": "code",
   "execution_count": 15,
   "metadata": {},
   "outputs": [
    {
     "data": {
      "text/plain": [
       "array([1.29340767, 0.98747885, 1.02385605, 1.07321461, 0.90437547])"
      ]
     },
     "execution_count": 15,
     "metadata": {},
     "output_type": "execute_result"
    }
   ],
   "source": [
    "mu,sigma = 1,0.2  #正太分布数组\n",
    "np.random.normal(mu,sigma,5)"
   ]
  },
  {
   "cell_type": "code",
   "execution_count": 16,
   "metadata": {},
   "outputs": [
    {
     "name": "stdout",
     "output_type": "stream",
     "text": [
      "[1 2]\n",
      "[[3 4]]\n",
      "[[1 2]]\n",
      "[[1]\n",
      " [3]]\n",
      "4\n"
     ]
    }
   ],
   "source": [
    "#1.2 np数组访问\n",
    "a = np.array(([1,2],[3,4]))\n",
    "print(a[0])\n",
    "print(a[1:])\n",
    "print(a[:1])\n",
    "print(a[:,:1])\n",
    "print(a[1][1])"
   ]
  },
  {
   "cell_type": "code",
   "execution_count": 17,
   "metadata": {},
   "outputs": [
    {
     "name": "stdout",
     "output_type": "stream",
     "text": [
      "1\n",
      "2\n",
      "3\n",
      "2\n",
      "20\n",
      "42\n"
     ]
    }
   ],
   "source": [
    "# 数组的遍历\n",
    "a = np.array([1,2,3])\n",
    "for i in a:\n",
    "    print(i)\n",
    "b = np.array(([1,2],[4,5],[6,7]))\n",
    "for j,k in b:\n",
    "    print(j*k)"
   ]
  },
  {
   "cell_type": "code",
   "execution_count": 18,
   "metadata": {},
   "outputs": [
    {
     "name": "stdout",
     "output_type": "stream",
     "text": [
      "ndim: 2\n",
      "shape: (3, 3)\n",
      "size 9\n",
      "dtype int32\n"
     ]
    }
   ],
   "source": [
    "#数组的属性\n",
    "a = np.array([(1,2,3), (4,5,6), (7,8,9)])\n",
    "print(\"ndim:\", a.ndim)  #维度、秩\n",
    "print(\"shape:\", a.shape)  #大小\n",
    "print(\"size\", a.size)  #元素个数\n",
    "print(\"dtype\", a.dtype)  #元素类型"
   ]
  },
  {
   "cell_type": "code",
   "execution_count": 19,
   "metadata": {},
   "outputs": [
    {
     "name": "stdout",
     "output_type": "stream",
     "text": [
      "True\n",
      "False\n"
     ]
    }
   ],
   "source": [
    "# 1.3数组的基本操作\n",
    "# 检测数值是否在组中\n",
    "a = np.array([(1,2,3),(4,5,6)])\n",
    "print(4 in a)\n",
    "print(7 in a)"
   ]
  },
  {
   "cell_type": "code",
   "execution_count": 20,
   "metadata": {},
   "outputs": [
    {
     "data": {
      "text/plain": [
       "array([[0., 0.],\n",
       "       [0., 0.],\n",
       "       [0., 0.]])"
      ]
     },
     "execution_count": 20,
     "metadata": {},
     "output_type": "execute_result"
    }
   ],
   "source": [
    "# 数组的重排列\n",
    "a = np.zeros([2,3])\n",
    "a\n",
    "a.reshape(6)  #array([0.,0.,0.,0.,0.,0.])\n",
    "a.reshape(3,2)"
   ]
  },
  {
   "cell_type": "code",
   "execution_count": 21,
   "metadata": {},
   "outputs": [
    {
     "data": {
      "text/plain": [
       "array([[1, 5],\n",
       "       [2, 6],\n",
       "       [3, 7],\n",
       "       [4, 8]])"
      ]
     },
     "execution_count": 21,
     "metadata": {},
     "output_type": "execute_result"
    }
   ],
   "source": [
    "# 数组的转置\n",
    "a = np.array(([1,2,3,4],[5,6,7,8]))\n",
    "a.T  #a.transpose()"
   ]
  },
  {
   "cell_type": "code",
   "execution_count": 22,
   "metadata": {},
   "outputs": [
    {
     "data": {
      "text/plain": [
       "array([1, 2, 3, 4, 5, 6])"
      ]
     },
     "execution_count": 22,
     "metadata": {},
     "output_type": "execute_result"
    }
   ],
   "source": [
    "# 多维数组转换一维\n",
    "a = np.array([(1,2,3),(4,5,6)])\n",
    "a.flatten()"
   ]
  },
  {
   "cell_type": "code",
   "execution_count": 23,
   "metadata": {},
   "outputs": [
    {
     "name": "stdout",
     "output_type": "stream",
     "text": [
      "(4,)\n"
     ]
    },
    {
     "data": {
      "text/plain": [
       "array([[1],\n",
       "       [2],\n",
       "       [3],\n",
       "       [4]])"
      ]
     },
     "execution_count": 23,
     "metadata": {},
     "output_type": "execute_result"
    }
   ],
   "source": [
    "#增加维度\n",
    "a = np.array((1,2,3,4))\n",
    "print(a.shape)\n",
    "a = a[:, np.newaxis]\n",
    "a"
   ]
  },
  {
   "cell_type": "code",
   "execution_count": 24,
   "metadata": {},
   "outputs": [
    {
     "name": "stdout",
     "output_type": "stream",
     "text": [
      "[[1 2]\n",
      " [2 1]]\n",
      "[[1. 1.]\n",
      " [1. 1.]]\n",
      "[[2. 3.]\n",
      " [3. 2.]]\n",
      "[[1. 2.]\n",
      " [2. 1.]]\n",
      "6\n",
      "4\n"
     ]
    }
   ],
   "source": [
    "# 1.4 数组的数学操作\n",
    "a = np.array(((1,2),(2,1)))\n",
    "b = np.ones((2,2))\n",
    "print(a)\n",
    "print(b)\n",
    "print(a+b)\n",
    "print(a*b)\n",
    "print(a.sum())\n",
    "print(a.prod())  #积"
   ]
  },
  {
   "cell_type": "code",
   "execution_count": 25,
   "metadata": {},
   "outputs": [
    {
     "name": "stdout",
     "output_type": "stream",
     "text": [
      "mean: 4.0\n",
      "var: 2.6666666666666665\n",
      "std: 1.632993161855452\n",
      "max: 6\n",
      "min: 2\n"
     ]
    }
   ],
   "source": [
    "a = np.array((2,4,6))\n",
    "print(\"mean:\",a.mean())  #平均值\n",
    "print(\"var:\", a.var())  #方差\n",
    "print(\"std:\", a.std())  #标准差\n",
    "print(\"max:\", a.max())  \n",
    "print(\"min:\", a.min())"
   ]
  },
  {
   "cell_type": "code",
   "execution_count": 26,
   "metadata": {},
   "outputs": [
    {
     "name": "stdout",
     "output_type": "stream",
     "text": [
      "argmax: 2\n",
      "argmin: 0\n",
      "ceil: [2. 4. 5.]\n",
      "floor: [1. 3. 4.]\n",
      "rint: [1. 4. 5.]\n"
     ]
    }
   ],
   "source": [
    "a = np.array([1.2, 3.8, 4.9])\n",
    "print(\"argmax:\", a.argmax())  #返回元素最大值位置\n",
    "print(\"argmin:\", a.argmin())  #返回元素最小值位置\n",
    "print(\"ceil:\", np.ceil(a))  #向上取整\n",
    "print(\"floor:\", np.floor(a))  #向下取整\n",
    "print(\"rint:\", np.rint(a))  #四舍五入"
   ]
  },
  {
   "cell_type": "code",
   "execution_count": 27,
   "metadata": {},
   "outputs": [
    {
     "data": {
      "text/plain": [
       "array([12, 16, 22, 28, 31, 31, 48])"
      ]
     },
     "execution_count": 27,
     "metadata": {},
     "output_type": "execute_result"
    }
   ],
   "source": [
    "#排序\n",
    "a = np.array([16,31,12,28,22,31,48])\n",
    "a.sort()\n",
    "a"
   ]
  },
  {
   "cell_type": "code",
   "execution_count": 28,
   "metadata": {},
   "outputs": [
    {
     "name": "stdout",
     "output_type": "stream",
     "text": [
      "[[ 8  8]\n",
      " [18 18]]\n",
      "[[ 8  8]\n",
      " [18 18]]\n"
     ]
    }
   ],
   "source": [
    "#numpy线性代数\n",
    "a = np.array(((1,2),(3,4)))\n",
    "b = np.array(((2,2),(3,3)))\n",
    "result_dot = np.dot(a,b)  #矩阵乘法\n",
    "result_at = a @ b  #矩阵乘法\n",
    "print(result_dot)\n",
    "print(result_at)"
   ]
  },
  {
   "cell_type": "code",
   "execution_count": 6,
   "metadata": {},
   "outputs": [
    {
     "name": "stdout",
     "output_type": "stream",
     "text": [
      "1.0 * 6.0 = 6.0\n",
      "2.0 * 8.0 = 16.0\n",
      "结果矩阵[1,2]:22.0\n",
      "\n",
      "3.0 * 6.0 = 18.0\n",
      "4.0 * 8.0 = 32.0\n",
      "结果矩阵[2,2]:50.0\n",
      "\n",
      "⼿动推演结果:\n",
      "[[ 0. 22.]\n",
      " [ 0. 50.]]\n"
     ]
    }
   ],
   "source": [
    "m1 = np.array([[1, 2], [3, 4]] , dtype=np.float32)\n",
    "m2 = np.array([[5, 6], [7, 8]] , dtype=np.float32)\n",
    "#结果矩阵的⾏数等于 matrix1 的⾏数，列数等于 matrix2 的列数\n",
    "manual_result = np.zeros((m1.shape[0], m2.shape[1]), dtype=np.float32) \n",
    "for i in range(m1.shape[0]):\n",
    "    for j in range(m1.shape[0]):\n",
    "        manual_result[i, j] = 0\n",
    "    for k in range(m1.shape[1]):\n",
    "        print(f\"{m1[i, k]} * {m2[k, j]} = {m1[i, k] * m2[k, j]}\")\n",
    "        manual_result[i, j] += m1[i, k] * m2[k, j]\n",
    "    print(f\"结果矩阵[{i+1},{j+1}]:{manual_result[i, j]}\\n\")\n",
    "print(\"⼿动推演结果:\")\n",
    "print(manual_result)"
   ]
  },
  {
   "cell_type": "code",
   "execution_count": 13,
   "metadata": {},
   "outputs": [],
   "source": [
    "#文件操作\n",
    "#二进制文件 np.save  np.load  .npy格式\n",
    "#文本文件 np.loadtxt  np.savetext\n",
    "np.save('result.npy',manual_result)"
   ]
  },
  {
   "cell_type": "code",
   "execution_count": 14,
   "metadata": {},
   "outputs": [
    {
     "data": {
      "text/plain": [
       "array([[ 0., 22.],\n",
       "       [ 0., 50.]], dtype=float32)"
      ]
     },
     "execution_count": 14,
     "metadata": {},
     "output_type": "execute_result"
    }
   ],
   "source": [
    "result_np = np.load('result.npy')\n",
    "result_np"
   ]
  },
  {
   "cell_type": "code",
   "execution_count": 17,
   "metadata": {},
   "outputs": [
    {
     "data": {
      "text/plain": [
       "array([[2, 4, 6],\n",
       "       [5, 7, 9]])"
      ]
     },
     "execution_count": 17,
     "metadata": {},
     "output_type": "execute_result"
    }
   ],
   "source": [
    "#numpy广播机制\n",
    "#不同形状数组数值运算\n",
    "a = np.array(((1,2,3),(4,5,6)))  #(3,2)\n",
    "b = np.array((1,2,3))  #(1,3)\n",
    "a + b"
   ]
  },
  {
   "cell_type": "code",
   "execution_count": null,
   "metadata": {},
   "outputs": [],
   "source": [
    "#2. pytorch基础"
   ]
  }
 ],
 "metadata": {
  "kernelspec": {
   "display_name": "lee",
   "language": "python",
   "name": "python3"
  },
  "language_info": {
   "codemirror_mode": {
    "name": "ipython",
    "version": 3
   },
   "file_extension": ".py",
   "mimetype": "text/x-python",
   "name": "python",
   "nbconvert_exporter": "python",
   "pygments_lexer": "ipython3",
   "version": "3.8.20"
  }
 },
 "nbformat": 4,
 "nbformat_minor": 2
}
