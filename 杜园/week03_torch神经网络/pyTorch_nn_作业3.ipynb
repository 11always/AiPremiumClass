{
 "cells": [
  {
   "cell_type": "markdown",
   "metadata": {},
   "source": [
    "### 目标\n",
    "    问题：任意手写数字，识别出对应的数字是多少\n",
    "    要求：使用pytorch构建神经网络,实现KMNIST数据集的训练\n",
    "         调整超参数 学习率 0.01->0.05 准确率 0.7062->0.7983 提升了\n",
    "         调整超参数 学习率 0.01->0.001 准确率 0.7062->0.7987 提升了\n",
    "\n",
    "         调整批次大小 50->100 准确率 0.7062->0.6622 下降了\n",
    "         调整批次大小 50->30 准确率 0.7062->0.74.56 上升了\n",
    "\n",
    "         综上，学习率0.001 批次大小100 准确率0.7987 是最优的\n",
    "    步骤：\n",
    "        1. 数据预处理\n",
    "        2. 构建模型\n",
    "        3. 构建损失函数\n",
    "        4. 构建优化器\n",
    "        5. 训练模型\n",
    "        6. 预测数据"
   ]
  },
  {
   "cell_type": "markdown",
   "metadata": {},
   "source": [
    "####  1. 数据预处理"
   ]
  },
  {
   "cell_type": "code",
   "execution_count": 1,
   "metadata": {},
   "outputs": [],
   "source": [
    "# 导包\n",
    "import torch\n",
    "import torch.nn as nn\n",
    "from torchvision.datasets import KMNIST\n",
    "from torchvision.transforms import ToTensor\n",
    "from torch.utils.data import DataLoader"
   ]
  },
  {
   "cell_type": "code",
   "execution_count": 26,
   "metadata": {},
   "outputs": [],
   "source": [
    "# 参数初始化\n",
    "BATCH_SIZE = 30\n",
    "lr = 0.01\n",
    "epochs = 20"
   ]
  },
  {
   "cell_type": "code",
   "execution_count": 27,
   "metadata": {},
   "outputs": [],
   "source": [
    "# 加载训练数据集\n",
    "train_data = KMNIST(root='./kdata', train=True, download=True, transform=ToTensor())\n",
    "# 拆分训练数据集\n",
    "train_dl = DataLoader(train_data, batch_size=BATCH_SIZE)\n",
    "\n",
    "# 加载测试数据集\n",
    "test_data = KMNIST(root='./kdata', train=False, download=True, transform=ToTensor())\n",
    "# 拆分测试数据集\n",
    "test_dl = DataLoader(test_data, batch_size=BATCH_SIZE)"
   ]
  },
  {
   "cell_type": "markdown",
   "metadata": {},
   "source": [
    "### 2.构建模型"
   ]
  },
  {
   "cell_type": "code",
   "execution_count": 28,
   "metadata": {},
   "outputs": [],
   "source": [
    "model = nn.Sequential(\n",
    "    nn.Linear(784, 32),\n",
    "    nn.Sigmoid(),\n",
    "    nn.Linear(32, 10)\n",
    ")"
   ]
  },
  {
   "cell_type": "markdown",
   "metadata": {},
   "source": [
    "### 3. 构建损失函数"
   ]
  },
  {
   "cell_type": "code",
   "execution_count": 29,
   "metadata": {},
   "outputs": [],
   "source": [
    "loss_fn = nn.CrossEntropyLoss()"
   ]
  },
  {
   "cell_type": "markdown",
   "metadata": {},
   "source": [
    "### 4.构建优化器"
   ]
  },
  {
   "cell_type": "code",
   "execution_count": 30,
   "metadata": {},
   "outputs": [],
   "source": [
    "optimizer = torch.optim.SGD(model.parameters(), lr)"
   ]
  },
  {
   "cell_type": "markdown",
   "metadata": {},
   "source": [
    "### 5.训练模型"
   ]
  },
  {
   "cell_type": "code",
   "execution_count": 31,
   "metadata": {},
   "outputs": [
    {
     "name": "stdout",
     "output_type": "stream",
     "text": [
      "epoch: 0  loss: 1.6764938831329346\n",
      "epoch: 1  loss: 1.2019962072372437\n",
      "epoch: 2  loss: 0.9653415679931641\n",
      "epoch: 3  loss: 0.8185322880744934\n",
      "epoch: 4  loss: 0.7155898213386536\n",
      "epoch: 5  loss: 0.6433466672897339\n",
      "epoch: 6  loss: 0.5913487076759338\n",
      "epoch: 7  loss: 0.5521135330200195\n",
      "epoch: 8  loss: 0.5209807753562927\n",
      "epoch: 9  loss: 0.4950665831565857\n",
      "epoch: 10  loss: 0.4725891351699829\n",
      "epoch: 11  loss: 0.45251554250717163\n",
      "epoch: 12  loss: 0.43429890275001526\n",
      "epoch: 13  loss: 0.41764694452285767\n",
      "epoch: 14  loss: 0.40237170457839966\n",
      "epoch: 15  loss: 0.3883315324783325\n",
      "epoch: 16  loss: 0.37541478872299194\n",
      "epoch: 17  loss: 0.3635297119617462\n",
      "epoch: 18  loss: 0.35259386897087097\n",
      "epoch: 19  loss: 0.3425273895263672\n"
     ]
    }
   ],
   "source": [
    "for epoch in range(epochs):\n",
    "    for x, y in train_dl:\n",
    "        y_hat = model(x.reshape(-1, 784))\n",
    "        loss = loss_fn(y_hat, y)\n",
    "        optimizer.zero_grad()\n",
    "        loss.backward()\n",
    "        optimizer.step()\n",
    "    print(f\"epoch: {epoch}  loss: {loss.item()}\")"
   ]
  },
  {
   "cell_type": "markdown",
   "metadata": {},
   "source": [
    "### 6. 预测数据"
   ]
  },
  {
   "cell_type": "code",
   "execution_count": 32,
   "metadata": {},
   "outputs": [
    {
     "name": "stdout",
     "output_type": "stream",
     "text": [
      "Accuracy: 0.7456\n"
     ]
    }
   ],
   "source": [
    "# 总样本数\n",
    "total = 0\n",
    "# 正确分类数\n",
    "correct = 0\n",
    "\n",
    "with torch.no_grad():\n",
    "    for x, y in test_dl:\n",
    "        y_hat = model(x.reshape(-1, 784)) # 每个图片10个类别的概率值组成\n",
    "        max_val, max_idx = torch.max(y_hat, 1) # 找到概率值最大的类别索引\n",
    "        total += y.size(0)\n",
    "        correct += (max_idx == y).sum().item() # 统计正确分类的个数\n",
    "print(f'Accuracy: {correct / total}')"
   ]
  }
 ],
 "metadata": {
  "kernelspec": {
   "display_name": "py312",
   "language": "python",
   "name": "python3"
  },
  "language_info": {
   "codemirror_mode": {
    "name": "ipython",
    "version": 3
   },
   "file_extension": ".py",
   "mimetype": "text/x-python",
   "name": "python",
   "nbconvert_exporter": "python",
   "pygments_lexer": "ipython3",
   "version": "3.12.8"
  }
 },
 "nbformat": 4,
 "nbformat_minor": 2
}
