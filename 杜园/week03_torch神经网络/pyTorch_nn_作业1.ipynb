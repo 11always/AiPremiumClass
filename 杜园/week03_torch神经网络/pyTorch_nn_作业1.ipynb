{
 "cells": [
  {
   "cell_type": "markdown",
   "metadata": {},
   "source": [
    "### 目标\n",
    "    问题：任意手写数字，识别出对应的数字是多少\n",
    "    要求：使用pytorch构建神经网络,实现KMNIST数据集的训练\n",
    "    分析：\n",
    "        1. KMNIST数据集 \n",
    "                训练集60000张，测试集10000张 \n",
    "                每张图片大小28*28 \n",
    "                分10类-对应数字 0 到 9 这 10 个手写数字类别\n",
    "        2. 构建神经网络\n",
    "                输入层：(60000, 784)\n",
    "                隐藏层：(784, 32)\n",
    "                输出层：(, 10)\n",
    "        思路：① 60000 张图片组成的训练集对模型进行训练，不断迭代优化模型的参数，获得一组能使模型在整个训练集上\n",
    "                表现最优的全局参数；\n",
    "              ② 训练过程中，每张输入的图片数据会依次经过隐藏层的所有 32 个神经元进行特征提取和转换；\n",
    "              ③ 隐藏层的 32 个神经元的输出结果会作为输入传递到输出层，最终由输出层输出 10 个类别的预测概率，\n",
    "                对应数字 0 到 9 这 10 个手写数字类别。\n",
    "\n",
    "    步骤：\n",
    "        1. 数据预处理\n",
    "        2. 构建模型\n",
    "        3. 构建损失函数\n",
    "        4. 构建优化器\n",
    "        5. 训练模型\n",
    "        6. 预测数据"
   ]
  },
  {
   "cell_type": "markdown",
   "metadata": {},
   "source": [
    "####  1. 数据预处理"
   ]
  },
  {
   "cell_type": "code",
   "execution_count": null,
   "metadata": {},
   "outputs": [],
   "source": [
    "# 导包\n",
    "import torch\n",
    "import torch.nn as nn\n",
    "from torchvision.datasets import KMNIST\n",
    "from torchvision.transforms import ToTensor\n",
    "from torch.utils.data import DataLoader"
   ]
  },
  {
   "cell_type": "code",
   "execution_count": 41,
   "metadata": {},
   "outputs": [],
   "source": [
    "# 参数初始化\n",
    "BATCH_SIZE = 50\n",
    "lr = 0.01\n",
    "epochs = 20"
   ]
  },
  {
   "cell_type": "code",
   "execution_count": 42,
   "metadata": {},
   "outputs": [],
   "source": [
    "# 加载训练数据集\n",
    "train_data = KMNIST(root='./kdata', train=True, download=True, transform=ToTensor())\n",
    "# 拆分训练数据集\n",
    "train_dl = DataLoader(train_data, batch_size=BATCH_SIZE)\n",
    "\n",
    "# 加载测试数据集\n",
    "test_data = KMNIST(root='./kdata', train=False, download=True, transform=ToTensor())\n",
    "# 拆分测试数据集\n",
    "test_dl = DataLoader(test_data, batch_size=BATCH_SIZE)"
   ]
  },
  {
   "cell_type": "markdown",
   "metadata": {},
   "source": [
    "### 2.构建模型"
   ]
  },
  {
   "cell_type": "code",
   "execution_count": 43,
   "metadata": {},
   "outputs": [],
   "source": [
    "model = nn.Sequential(\n",
    "    nn.Linear(784, 32),\n",
    "    nn.Sigmoid(),\n",
    "    nn.Linear(32, 10)\n",
    ")"
   ]
  },
  {
   "cell_type": "markdown",
   "metadata": {},
   "source": [
    "### 3. 构建损失函数"
   ]
  },
  {
   "cell_type": "code",
   "execution_count": 44,
   "metadata": {},
   "outputs": [],
   "source": [
    "loss_fn = nn.CrossEntropyLoss()"
   ]
  },
  {
   "cell_type": "markdown",
   "metadata": {},
   "source": [
    "### 4.构建优化器"
   ]
  },
  {
   "cell_type": "code",
   "execution_count": 45,
   "metadata": {},
   "outputs": [],
   "source": [
    "optimizer = torch.optim.SGD(model.parameters(), lr)"
   ]
  },
  {
   "cell_type": "markdown",
   "metadata": {},
   "source": [
    "### 5.训练模型"
   ]
  },
  {
   "cell_type": "code",
   "execution_count": 46,
   "metadata": {},
   "outputs": [
    {
     "name": "stdout",
     "output_type": "stream",
     "text": [
      "epoch: 0  loss: 1.9823265075683594\n",
      "epoch: 1  loss: 1.6238467693328857\n",
      "epoch: 2  loss: 1.3155268430709839\n",
      "epoch: 3  loss: 1.0984141826629639\n",
      "epoch: 4  loss: 0.9566939473152161\n",
      "epoch: 5  loss: 0.8597520589828491\n",
      "epoch: 6  loss: 0.7894555926322937\n",
      "epoch: 7  loss: 0.7363988757133484\n",
      "epoch: 8  loss: 0.6954023241996765\n",
      "epoch: 9  loss: 0.6631824970245361\n",
      "epoch: 10  loss: 0.6373887062072754\n",
      "epoch: 11  loss: 0.6162920594215393\n",
      "epoch: 12  loss: 0.5986469388008118\n",
      "epoch: 13  loss: 0.5835732817649841\n",
      "epoch: 14  loss: 0.570449948310852\n",
      "epoch: 15  loss: 0.5588335990905762\n",
      "epoch: 16  loss: 0.548402726650238\n",
      "epoch: 17  loss: 0.5389223694801331\n",
      "epoch: 18  loss: 0.5302198529243469\n",
      "epoch: 19  loss: 0.5221675038337708\n"
     ]
    }
   ],
   "source": [
    "for epoch in range(epochs):\n",
    "    for x, y in train_dl:\n",
    "        y_hat = model(x.reshape(-1, 784))\n",
    "        loss = loss_fn(y_hat, y)\n",
    "        optimizer.zero_grad()\n",
    "        loss.backward()\n",
    "        optimizer.step()\n",
    "    print(f\"epoch: {epoch}  loss: {loss.item()}\")"
   ]
  },
  {
   "cell_type": "markdown",
   "metadata": {},
   "source": [
    "### 6. 预测数据"
   ]
  },
  {
   "cell_type": "code",
   "execution_count": 50,
   "metadata": {},
   "outputs": [
    {
     "name": "stdout",
     "output_type": "stream",
     "text": [
      "Accuracy: 0.7062\n"
     ]
    }
   ],
   "source": [
    "# 总样本数\n",
    "total = 0\n",
    "# 正确分类数\n",
    "correct = 0\n",
    "\n",
    "with torch.no_grad():\n",
    "    for x, y in test_dl:\n",
    "        y_hat = model(x.reshape(-1, 784)) # 每个图片10个类别的概率值组成\n",
    "        max_val, max_idx = torch.max(y_hat, 1) # 找到概率值最大的类别索引\n",
    "        total += y.size(0)\n",
    "        correct += (max_idx == y).sum().item() # 统计正确分类的个数\n",
    "print(f'Accuracy: {correct / total}')"
   ]
  }
 ],
 "metadata": {
  "kernelspec": {
   "display_name": "py312",
   "language": "python",
   "name": "python3"
  },
  "language_info": {
   "name": "python",
   "version": "3.12.8"
  }
 },
 "nbformat": 4,
 "nbformat_minor": 2
}
