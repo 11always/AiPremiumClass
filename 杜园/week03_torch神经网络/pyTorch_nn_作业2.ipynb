{
 "cells": [
  {
   "cell_type": "markdown",
   "metadata": {},
   "source": [
    "### 目标\n",
    "    问题：任意手写数字，识别出对应的数字是多少\n",
    "    要求：使用pytorch构建神经网络,实现KMNIST数据集的训练\n",
    "         变更隐藏层神经元数量32->64 准确率 0.7062->0.7109 提升了\n",
    "         变更隐藏层神经元数量64->128 准确率 0.7109->0.1003 下降了\n",
    "\n",
    "         增加隐藏层数量2->3 准确率 0.7109->0.6029 下降了\n",
    "\n",
    "         综上：变更神经元数量、增加隐藏层 不一定能提升准确率"
   ]
  },
  {
   "cell_type": "markdown",
   "metadata": {},
   "source": [
    "####  1. 数据预处理"
   ]
  },
  {
   "cell_type": "code",
   "execution_count": 1,
   "metadata": {},
   "outputs": [],
   "source": [
    "# 导包\n",
    "import torch\n",
    "import torch.nn as nn\n",
    "from torchvision.datasets import KMNIST\n",
    "from torchvision.transforms import ToTensor\n",
    "from torch.utils.data import DataLoader"
   ]
  },
  {
   "cell_type": "code",
   "execution_count": 24,
   "metadata": {},
   "outputs": [],
   "source": [
    "# 参数初始化\n",
    "BATCH_SIZE = 50\n",
    "lr = 0.01\n",
    "epochs = 20"
   ]
  },
  {
   "cell_type": "code",
   "execution_count": 25,
   "metadata": {},
   "outputs": [],
   "source": [
    "# 加载训练数据集\n",
    "train_data = KMNIST(root='./kdata', train=True, download=True, transform=ToTensor())\n",
    "# 拆分训练数据集\n",
    "train_dl = DataLoader(train_data, batch_size=BATCH_SIZE)\n",
    "\n",
    "# 加载测试数据集\n",
    "test_data = KMNIST(root='./kdata', train=False, download=True, transform=ToTensor())\n",
    "# 拆分测试数据集\n",
    "test_dl = DataLoader(test_data, batch_size=BATCH_SIZE)"
   ]
  },
  {
   "cell_type": "markdown",
   "metadata": {},
   "source": [
    "### 2.构建模型"
   ]
  },
  {
   "cell_type": "code",
   "execution_count": 26,
   "metadata": {},
   "outputs": [],
   "source": [
    "# model = nn.Sequential(\n",
    "#     nn.Linear(784, 32),\n",
    "#     nn.Sigmoid(),\n",
    "#     nn.Linear(32, 10)\n",
    "# )\n",
    "\n",
    "# 变更神经元数量 32 -> 64\n",
    "model = nn.Sequential(\n",
    "    nn.Linear(784, 64),\n",
    "    nn.Sigmoid(),\n",
    "    nn.Linear(64, 32),\n",
    "    nn.Sigmoid(),\n",
    "    nn.Linear(32, 10)\n",
    ")"
   ]
  },
  {
   "cell_type": "markdown",
   "metadata": {},
   "source": [
    "### 3. 构建损失函数"
   ]
  },
  {
   "cell_type": "code",
   "execution_count": 27,
   "metadata": {},
   "outputs": [],
   "source": [
    "loss_fn = nn.CrossEntropyLoss()"
   ]
  },
  {
   "cell_type": "markdown",
   "metadata": {},
   "source": [
    "### 4.构建优化器"
   ]
  },
  {
   "cell_type": "code",
   "execution_count": 28,
   "metadata": {},
   "outputs": [],
   "source": [
    "optimizer = torch.optim.SGD(model.parameters(), lr)"
   ]
  },
  {
   "cell_type": "markdown",
   "metadata": {},
   "source": [
    "### 5.训练模型"
   ]
  },
  {
   "cell_type": "code",
   "execution_count": 29,
   "metadata": {},
   "outputs": [],
   "source": [
    "for epoch in range(epochs):\n",
    "    for x, y in train_dl:\n",
    "        y_hat = model(x.reshape(-1, 784))\n",
    "        loss = loss_fn(y_hat, y)\n",
    "        optimizer.zero_grad()\n",
    "        loss.backward()\n",
    "        optimizer.step()\n",
    "    # print(f\"epoch: {epoch}  loss: {loss.item()}\")"
   ]
  },
  {
   "cell_type": "markdown",
   "metadata": {},
   "source": [
    "### 6. 预测数据"
   ]
  },
  {
   "cell_type": "code",
   "execution_count": 30,
   "metadata": {},
   "outputs": [
    {
     "name": "stdout",
     "output_type": "stream",
     "text": [
      "Accuracy: 0.6029\n"
     ]
    }
   ],
   "source": [
    "# 总样本数\n",
    "total = 0\n",
    "# 正确分类数\n",
    "correct = 0\n",
    "\n",
    "with torch.no_grad():\n",
    "    for x, y in test_dl:\n",
    "        y_hat = model(x.reshape(-1, 784))\n",
    "        max_val, max_idx = torch.max(y_hat, 1)\n",
    "        total += y.size(0)\n",
    "        correct += (max_idx == y).sum().item()\n",
    "print(f'Accuracy: {correct / total}')"
   ]
  }
 ],
 "metadata": {
  "kernelspec": {
   "display_name": "py312",
   "language": "python",
   "name": "python3"
  },
  "language_info": {
   "codemirror_mode": {
    "name": "ipython",
    "version": 3
   },
   "file_extension": ".py",
   "mimetype": "text/x-python",
   "name": "python",
   "nbconvert_exporter": "python",
   "pygments_lexer": "ipython3",
   "version": "3.12.8"
  }
 },
 "nbformat": 4,
 "nbformat_minor": 2
}
