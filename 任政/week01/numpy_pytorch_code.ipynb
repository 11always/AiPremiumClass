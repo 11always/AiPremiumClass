{
 "cells": [
  {
   "cell_type": "code",
   "id": "initial_id",
   "metadata": {
    "collapsed": true
   },
   "source": [
    "import numpy as np\n",
    "a1 = np.zeros((2,3))    # 创建全零矩阵\n",
    "a2 = np.ones((5,5))    # 创建全1矩阵\n",
    "a3 = np.eye(5)          # 创建单位矩阵   关于对角线对称\n",
    "a3\n",
    "\n",
    "a4 = np.random.random(10)   # 创建十个0-1中间的数\n",
    "a5 = np.random.normal(2,3,5)  # 正态分布，2为均值，3为标准差，5是数量\n",
    "a5\n",
    "\n",
    "a7 = np.array([(1,5), (3,4), (5,6)])    # 包含元祖的列表\n",
    "#for i,j in a7:    # 循环输出每一行的数字\n",
    "    #print(i,j)\n",
    "a7\n",
    "a7.ndim   # 查看几维\n",
    "a7.shape   # 查看形状\n",
    "a7.size  # 查看变量大小\n",
    "a7.dtype   # 查看数据类型\n",
    "\n",
    "5 in a7    # 该数是否在里边\n",
    "\n",
    "a8 = np.arange(1,10)\n",
    "a8.shape  # 形状 9个\n",
    "\n",
    "a8 = a8.reshape(3,3,1)  # 将a8调整成3维数组, 第一个维度为3 第二个维度为3 第三个维度为1\n",
    "a8\n",
    "\n",
    "a9 = np.array([(1,2,3), (4,5,6), (7,8,9)])\n",
    "a9 = a9.T    # a9的转置\n",
    "a9\n",
    "# a9 = a9.flatten() # 将多维数组转成一维数组\n",
    "a9\n",
    "\n",
    "a9  = a9[np.newaxis]   # 新增一个维度\n",
    "a9.shape\n",
    "\n",
    "a10 = np.array([(1,2), (3,4), (5,6)])\n",
    "a10 = a10 [:  , np.newaxis]  # 在第二位增加维度\n",
    "a10.shape"
   ],
   "outputs": [],
   "execution_count": null
  },
  {
   "metadata": {},
   "cell_type": "code",
   "source": [
    "a = np.ones((2,3))\n",
    "b = np.array([(1,1,1),(1,1,1)])\n",
    "a+b\n",
    "a-b\n",
    "b.sum()\n",
    "b.prod()   # 计算全部元素的乘积\n",
    "\n",
    "a = np.array([6,7,8,9,10])\n",
    "a.mean()  # 求平均值\n",
    "a.var()  # 计算所有元素的方差 （先求出每个元素与平均值的差值的平方，再求这些平方值的平均值。即 ((6 - 8)² + (7 - 8)² + (8 - 8)² + (9 - 8)² + (10 - 8)²) / 5 = 2.0。)\n",
    "a.std()   # 计算标准差，是方差的平方根"
   ],
   "id": "98be207c2b002115",
   "outputs": [],
   "execution_count": null
  },
  {
   "metadata": {},
   "cell_type": "code",
   "source": [
    "import numpy as np\n",
    "a = np.array([1.02, 3.8, 4.9,5.55,2.33])\n",
    "a.argmax()  # 获取最大值索引\n",
    "a.argmin()  # 获取最小值索引\n",
    "\n",
    "np.ceil(a)   # 所有元素向上取整\n",
    "np.floor(a)  # 向下取整\n",
    "np.rint(a)  # 根据四舍五入 取整\n",
    "\n",
    "a.sort()   # 从小到大排序\n",
    "a = np.sort(a)[::-1] # 从大到小排序\n",
    "a\n"
   ],
   "id": "5b3e1f627ea7de81",
   "outputs": [],
   "execution_count": null
  },
  {
   "metadata": {
    "ExecuteTime": {
     "end_time": "2025-02-27T08:25:31.695798Z",
     "start_time": "2025-02-27T08:25:31.687174Z"
    }
   },
   "cell_type": "code",
   "source": [
    "import torch\n",
    "import numpy as np\n",
    "tensor = torch.arange(1 , 17 ).reshape(4,4).to(torch.float32)  # 创建四行四列的张量，范围1-17 17不取\n",
    "# tensor = tensor.T   # 张量转置\n",
    "\n",
    "ten = tensor * tensor.T   #  逐个元素相乘\n",
    "ten3 = tensor.mul(tensor)   #  逐个元素相乘\n",
    "e = tensor * tensor   #  逐个元素相乘\n",
    "ten1 = tensor @ tensor.T   # 矩阵相乘\n",
    "# ten2 = np.matmul(tensor , tensor.T)  # 矩阵相乘\n",
    "#  n = np.dot(tensor,tensor.T)   # 最多用于二维的矩阵乘法  一维点积\n",
    "# n1 = tensor ** 2  #  逐个元素相乘\n",
    "# n1\n",
    "y = torch.rand_like(tensor)\n",
    "y\n",
    "\n",
    "np.save('result.npy',y)  # 将参数保存到磁盘 前边为文件名，后边为参数\n",
    "np.load('result.npy')    # 读取文件里的数据\n",
    "\n",
    "\n",
    "\n",
    "a = np.array([[(17,17), (21,21)], [(31,31), (41,41)]])  # shape(4,2)\n",
    "b = np.array([1,1])  # shape(2)-> shape(1,2) -> shape(4,2)  [[-1,1],[-1,1],[-1,1],[-1,1]]\n",
    "a + b   # 广播机制"
   ],
   "id": "52a12fcacf4b871a",
   "outputs": [
    {
     "data": {
      "text/plain": [
       "array([[[18, 18],\n",
       "        [22, 22]],\n",
       "\n",
       "       [[32, 32],\n",
       "        [42, 42]]])"
      ]
     },
     "execution_count": 431,
     "metadata": {},
     "output_type": "execute_result"
    }
   ],
   "execution_count": 431
  },
  {
   "metadata": {},
   "cell_type": "code",
   "source": "",
   "id": "b71366a67dd98525",
   "outputs": [],
   "execution_count": null
  },
  {
   "metadata": {},
   "cell_type": "code",
   "source": "",
   "id": "2f242db1778c93b8",
   "outputs": [],
   "execution_count": null
  }
 ],
 "metadata": {
  "kernelspec": {
   "display_name": "Python 3",
   "language": "python",
   "name": "python3"
  },
  "language_info": {
   "codemirror_mode": {
    "name": "ipython",
    "version": 2
   },
   "file_extension": ".py",
   "mimetype": "text/x-python",
   "name": "python",
   "nbconvert_exporter": "python",
   "pygments_lexer": "ipython2",
   "version": "2.7.6"
  }
 },
 "nbformat": 4,
 "nbformat_minor": 5
}
