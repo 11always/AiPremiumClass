{
 "cells": [
  {
   "cell_type": "code",
   "id": "initial_id",
   "metadata": {
    "collapsed": true,
    "ExecuteTime": {
     "end_time": "2025-03-07T10:57:06.206908Z",
     "start_time": "2025-03-07T10:57:06.193881Z"
    }
   },
   "source": [
    "from joblib import load\n",
    "from sklearn.model_selection import train_test_split\n",
    "from sklearn.datasets import make_classification\n",
    "import numpy as np\n",
    "\n",
    "# 加载模型\n",
    "model = load('iris_model.joblib')\n",
    "theta = model['theta']\n",
    "bias = model['bias']\n",
    "\n",
    "# 预测函数\n",
    "def predict(x):\n",
    "    z = np.dot(theta, x.T) + bias\n",
    "    y_hat = 1 / (1 + np.exp(-z))\n",
    "    return 1 if y_hat > 0.5 else 0\n",
    "# 使用示例\n",
    "X , y = make_classification(n_features = 4 )\n",
    "train_x , test_x , train_y , test_y = train_test_split(X , y , test_size = 0.7 , shuffle = True , random_state = 123)\n",
    "idx = np.random.randint(len(test_x))\n",
    "x = test_x[idx]\n",
    "y = test_y[idx]\n",
    "for i in range(1000):\n",
    "    prediction = predict(x)\n",
    "    count = 0\n",
    "    # print(f'预测值: {prediction} 真实值：{y}')\n",
    "    if prediction == y:\n",
    "        count+=1\n",
    "a = count / 10000\n",
    "print(f'准确值：{a}')\n",
    "\n"
   ],
   "outputs": [
    {
     "name": "stdout",
     "output_type": "stream",
     "text": [
      "准确值：0.0001\n"
     ]
    }
   ],
   "execution_count": 229
  }
 ],
 "metadata": {
  "kernelspec": {
   "display_name": "Python 3",
   "language": "python",
   "name": "python3"
  },
  "language_info": {
   "codemirror_mode": {
    "name": "ipython",
    "version": 2
   },
   "file_extension": ".py",
   "mimetype": "text/x-python",
   "name": "python",
   "nbconvert_exporter": "python",
   "pygments_lexer": "ipython2",
   "version": "2.7.6"
  }
 },
 "nbformat": 4,
 "nbformat_minor": 5
}
