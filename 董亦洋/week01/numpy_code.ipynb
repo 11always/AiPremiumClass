import numpy as np
a = [1,2,3]
b = np.array(a)
print(b)
a = np.array([[1,2,3],[4,5,6]])
a
a = np.zeros((3,3), int)
a
a = np.arange(1, 10 ,0.5)
a
a = np.eye(4)
a
a = np.random.random((3,3))
a
mu,sigma = 0,0.1
a = np.random.normal(5, 10, 10)
a
# a = np.array([[1,2],[3,4],[5,6]])
a = np.arange(1,19,1).reshape(3,2,3)
print(a)
print()
print(a[:,:2])
a = np.arange(1,7,1).reshape(2,3)
print(a)
print()
for i,j,k in a:
    print(i,j,k)
a = np.arange(1,19,1).reshape(2,3,3)
print(a)
for i,j,k in a:
    print(i,j,k)
b = np.array([1,2,3,4])
print(b)
a = np.arange(1,10,1).reshape(3,3)
print(a)
a.reshape(9)
print(a)
a = np.zeros((2,3,4))
a

a.reshape(24)
a = np.arange(1,7,1).reshape(1,2,3)
print(a,a.shape)
print(a.T,a.T.shape)
a = np.arange(1,7).reshape(2,3)
b = np.ones((3,3))
a@b

a = np.arange(12).reshape(3,1,4)
b = np.ones((5,4,6))
print(a)
print(np.dot(a,b))
a = np.arange(1,5).reshape(2,2)
b = np.ones((2,2))
print((a@b))
print(np.dot(a,b))
a = np.random.random((3,3))
print(a)
np.savetxt('a.txt',a)
b = np.loadtxt('a.txt')
b
a = np.ones((1,4,3,3,4))
b = np.ones((1,3,4,6))
# print(a)
print((a@b).shape)
print((a@b))
