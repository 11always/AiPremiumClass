import requests
import json

if __name__ == "__main__":
    #url获取链接https://github.com/ollama/ollama/blob/main/docs/api.md
    url = "http://localhost:11434/api/generate"

    # 提供json格式调用数据
    data = {
        "model":"deepseek-r1:1.5b",
        "prompt": "请简单介绍deepseek对比其他同类型大模型的优劣势？/nothink", # /nothink表示不使用思考链
        "stream": False # 是否开启流式输出
    }

    response= requests.post(url, json=data)

    if response.status_code == 200:  # 请求成功
        print(json.loads(response.text)['response'])


