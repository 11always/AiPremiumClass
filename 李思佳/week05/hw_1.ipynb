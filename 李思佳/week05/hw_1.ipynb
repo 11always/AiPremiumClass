{
 "cells": [
  {
   "cell_type": "markdown",
   "metadata": {},
   "source": [
    "#### 1. 实现基于豆瓣top250图书评论的简单推荐系统（TF-IDF及BM25两种算法实现）\n"
   ]
  },
  {
   "cell_type": "code",
   "execution_count": 1,
   "metadata": {},
   "outputs": [],
   "source": [
    "import csv\n",
    "import jieba\n",
    "from sklearn.feature_extraction.text import TfidfVectorizer  #feature_extraction 特征提取\n",
    "from sklearn.metrics.pairwise import cosine_similarity\n",
    "import numpy as np"
   ]
  },
  {
   "cell_type": "code",
   "execution_count": 4,
   "metadata": {},
   "outputs": [],
   "source": [
    "# 加载文件\n",
    "def load_data(filename):\n",
    "    # 图书的评论信息集合\n",
    "    book_comments = {} #{书名：”评论1词 + 评论2词 + ...“}\n",
    "\n",
    "    with open(filename,'r' ) as f:\n",
    "        reader = csv.DictReader(f, delimiter='\\t' ) #识别格式文本中的标题列\n",
    "        for item in reader:\n",
    "            book = item['book']\n",
    "            comment = item['body']\n",
    "            comment_words = jieba.lcut(comment)\n",
    "\n",
    "            if book == '': continue #书名为空的保护\n",
    "\n",
    "            # 图书评论集合收集\n",
    "            book_comments[book] = book_comments.get(book, []) #dict的get方法，key不存在，可赋值\n",
    "            book_comments[book].extend(comment_words)\n",
    "    book_list = list[book_comments.keys()]\n",
    "    print(book_list) \n",
    "    return book_comments"
   ]
  },
  {
   "cell_type": "code",
   "execution_count": 6,
   "metadata": {},
   "outputs": [],
   "source": [
    "#构建TF-IDF特征矩阵\n",
    "#分析矩阵的每一行的非0数值和所有行做余弦相似度的计算\n",
    "\n",
    "def tf_idf(bookname):\n",
    "    #加载停用词列表\n",
    "    stop_words = [line.strip() for line in open(\"李思佳/week05/stopwords.txt\", 'r', encoding=\"utf-8\")]\n",
    "\n",
    "    # 加载评论信息\n",
    "    book_comments = load_data(\"李思佳/week05/doubanbook_fixed.txt\")\n",
    "    print(len(book_comments))\n",
    "\n",
    "    # 提取书名和评论文本\n",
    "    book_names = []\n",
    "    book_comms = []\n",
    "    for book, comments in book_comments.items():\n",
    "        book_names.append(book)\n",
    "        book_comms.append(comments)\n",
    "    \n",
    "    #构建TF-IDF矩阵\n",
    "    vectorizer = TfidfVectorizer(stop_words=stop_words)\n",
    "    tfidf_matrix = vectorizer.fit_transform([' '.join(comments) for comments in book_comms])  #返回基于tfidf的得分矩阵\n",
    "\n",
    "    #分析矩阵的每一行的非0数值和所有行做余弦相似度的计算\n",
    "    similarity_matrix = cosine_similarity(tfidf_matrix)\n",
    "\n",
    "    book_idx = book_names.index(bookname)\n",
    "    # 获取与输入图书最相似的图书\n",
    "    recommend_book_idx = np.argsort(-similarity_matrix[book_idx])[1:11]\n",
    "    for idx in recommend_book_idx:\n",
    "        print(f\" 《{book_names[idx]}》\\t 相似度：{similarity_matrix[book_idx][idx]:.4f}\")\n"
   ]
  },
  {
   "cell_type": "code",
   "execution_count": null,
   "metadata": {},
   "outputs": [],
   "source": [
    "# 输入待查询的书籍\n",
    "book_name = input(\"请输入图书名称：\")\n",
    "tf_idf(book_name)\n"
   ]
  }
 ],
 "metadata": {
  "kernelspec": {
   "display_name": "py312",
   "language": "python",
   "name": "python3"
  },
  "language_info": {
   "codemirror_mode": {
    "name": "ipython",
    "version": 3
   },
   "file_extension": ".py",
   "mimetype": "text/x-python",
   "name": "python",
   "nbconvert_exporter": "python",
   "pygments_lexer": "ipython3",
   "version": "3.12.9"
  }
 },
 "nbformat": 4,
 "nbformat_minor": 2
}
