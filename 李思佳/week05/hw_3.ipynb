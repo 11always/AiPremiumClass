{
 "cells": [
  {
   "cell_type": "markdown",
   "metadata": {},
   "source": [
    "####  使用课堂示例cooking.stackexchange.txt，使用fasttext训练文本分类模型。（选做：尝试使用Kaggle中的Fake News数据集训练文本分类模型）"
   ]
  },
  {
   "cell_type": "code",
   "execution_count": 1,
   "metadata": {},
   "outputs": [
    {
     "name": "stderr",
     "output_type": "stream",
     "text": [
      "Read 0M words\n",
      "Number of words:  16568\n",
      "Number of labels: 736\n",
      "Progress:  98.1% words/sec/thread:   47361 lr:  0.001914 avg.loss:  9.197963 ETA:   0h 0m 0s"
     ]
    },
    {
     "name": "stdout",
     "output_type": "stream",
     "text": [
      "(('__label__substitutions',), array([0.42141384]))\n",
      "(('__label__chocolate',), array([0.27652651]))\n"
     ]
    },
    {
     "name": "stderr",
     "output_type": "stream",
     "text": [
      "Progress: 100.0% words/sec/thread:   47389 lr:  0.000000 avg.loss:  9.180763 ETA:   0h 0m 0s\n"
     ]
    }
   ],
   "source": [
    "import fasttext\n",
    "\n",
    "model = fasttext.train_supervised('/Users/peiqi/code/AiPremiumClass/李思佳/week05/cooking.stackexchange.txt', epoch=10, dim=200)\n",
    "\n",
    "\n",
    "# 文本分类功能\n",
    "print(model.predict(\"What can I use instead of corn syrup?\"))\n",
    "print(model.predict(\"American equivalent for British chocolate terms\"))"
   ]
  },
  {
   "cell_type": "code",
   "execution_count": null,
   "metadata": {},
   "outputs": [],
   "source": [
    "# Fake News数据集训练文本分类模型\n",
    "import fasttext\n"
   ]
  },
  {
   "cell_type": "code",
   "execution_count": null,
   "metadata": {},
   "outputs": [
    {
     "name": "stdout",
     "output_type": "stream",
     "text": [
      "Original data size: (5323, 4)\n",
      "Original data size: (5323, 4)\n"
     ]
    }
   ],
   "source": [
    "# 模型数据预处理\n",
    "import pandas as pd\n",
    "import fasttext\n",
    "import csv\n",
    "# 读取数据\n",
    "df = pd.read_csv('/Users/peiqi/code/AiPremiumClass/李思佳/week05/fake_news/gossipcop_fake.csv')\n",
    "\n",
    "df['label'] = 0\n",
    "\n",
    "# 数据预处理\n",
    "# 假设标签为0和1，将其转换为fastText格式，标签前加上__label__\n",
    "df['label'] = df['label'].apply(lambda x: '__label__' + str(x))\n",
    "\n",
    "df = df[['title', 'label']]\n",
    "df['fasttext_format'] = df.apply(lambda row: f\"{row['label']} {row['title']}\", axis=1)\n",
    "\n",
    "df['fasttext_format'].to_csv('train.txt', index=False, header=False, quoting=csv.QUOTE_MINIMAL)\n",
    "\n",
    "\n",
    "df = pd.read_csv('/Users/peiqi/code/AiPremiumClass/李思佳/week05/fake_news/gossipcop_fake.csv')\n",
    "\n",
    "df['label'] = 1\n",
    "\n",
    "df['label'] = df['label'].apply(lambda x: '__label__' + str(x))\n",
    "\n",
    "df = df[['title', 'label']]\n",
    "df['fasttext_format'] = df.apply(lambda row: f\"{row['label']} {row['title']}\", axis=1)\n",
    "\n",
    "df['fasttext_format'].to_csv('train_1.txt', index=False, header=False, quoting=csv.QUOTE_MINIMAL)\n",
    "\n",
    "with open('train.txt', 'r') as f_0:\n",
    "     lines = f_0.read()\n",
    "\n",
    "with open('train_1.txt', 'a') as f_1:\n",
    "     f_1.write(lines)\n",
    "\n",
    "with open('train_1.txt', 'r') as f:\n",
    "     lines = f.readlines()\n",
    "\n",
    "clean_line = [line.strip().strip('\"') + '\\n' for line in lines]\n",
    "\n",
    "with open('train_1.txt', 'w') as f:\n",
    "     f.writelines(clean_line)"
   ]
  },
  {
   "cell_type": "code",
   "execution_count": 20,
   "metadata": {},
   "outputs": [
    {
     "name": "stdout",
     "output_type": "stream",
     "text": [
      "(('__label__1',), array([0.51350147]))\n"
     ]
    },
    {
     "name": "stderr",
     "output_type": "stream",
     "text": [
      "Read 0M words\n",
      "Number of words:  12568\n",
      "Number of labels: 2\n",
      "Progress: 100.0% words/sec/thread: 1889009 lr:  0.000000 avg.loss:  0.570881 ETA:   0h 0m 0s\n"
     ]
    }
   ],
   "source": [
    "import fasttext\n",
    "\n",
    "model = fasttext.train_supervised('/Users/peiqi/code/AiPremiumClass/李思佳/week05/fake_news/train_1.txt', epoch=10, dim=200)\n",
    "\n",
    "\n",
    "# 文本分类功能\n",
    "print(model.predict(\"Trump's Latest Order Bans Majority\"))\n"
   ]
  },
  {
   "cell_type": "code",
   "execution_count": null,
   "metadata": {},
   "outputs": [],
   "source": []
  }
 ],
 "metadata": {
  "kernelspec": {
   "display_name": "py312",
   "language": "python",
   "name": "python3"
  },
  "language_info": {
   "codemirror_mode": {
    "name": "ipython",
    "version": 3
   },
   "file_extension": ".py",
   "mimetype": "text/x-python",
   "name": "python",
   "nbconvert_exporter": "python",
   "pygments_lexer": "ipython3",
   "version": "3.12.9"
  }
 },
 "nbformat": 4,
 "nbformat_minor": 2
}
