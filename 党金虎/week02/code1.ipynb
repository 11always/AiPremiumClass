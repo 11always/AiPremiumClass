{
 "cells": [
  {
   "cell_type": "code",
   "execution_count": null,
   "metadata": {},
   "outputs": [
    {
     "name": "stdout",
     "output_type": "stream",
     "text": [
      "2.499891109642585\n",
      "-0.99999998814289\n"
     ]
    }
   ],
   "source": [
    "# 定义⼀个函数，来计算损失函数对应的导数值\n",
    "def derivative(theta):\n",
    "    return 2*(theta-2.5)\n",
    "# 定义损失函数\n",
    "def loss(theta):\n",
    "    return (theta-2.5)**2-1\n",
    "\n",
    "# 初始化theta\n",
    "theta = 0.\n",
    "# 学习率\n",
    "eta = 0.1\n",
    "# 定义阈值\n",
    "epsilon = 1e-8\n",
    "while True:\n",
    "    # 计算梯度\n",
    "    gradient = derivative(theta)\n",
    "    # 更新theta\n",
    "    last_theta = theta\n",
    "    # 梯度下降\n",
    "    theta = theta - eta*gradient\n",
    "    # 检查是否收敛\n",
    "    if abs(loss(theta)-loss(last_theta)) < epsilon:\n",
    "        break\n",
    "\n",
    "print(theta)\n",
    "print(loss(theta))"
   ]
  },
  {
   "cell_type": "code",
   "execution_count": null,
   "metadata": {},
   "outputs": [],
   "source": []
  }
 ],
 "metadata": {
  "kernelspec": {
   "display_name": "py312",
   "language": "python",
   "name": "python3"
  },
  "language_info": {
   "codemirror_mode": {
    "name": "ipython",
    "version": 3
   },
   "file_extension": ".py",
   "mimetype": "text/x-python",
   "name": "python",
   "nbconvert_exporter": "python",
   "pygments_lexer": "ipython3",
   "version": "3.12.9"
  }
 },
 "nbformat": 4,
 "nbformat_minor": 2
}
