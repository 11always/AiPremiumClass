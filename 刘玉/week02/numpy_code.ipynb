{
 "cells": [
  {
   "cell_type": "code",
   "execution_count": 18,
   "metadata": {},
   "outputs": [
    {
     "data": {
      "text/plain": [
       "array([1, 2, 3])"
      ]
     },
     "execution_count": 18,
     "metadata": {},
     "output_type": "execute_result"
    }
   ],
   "source": [
    "import numpy as np\n",
    "\n",
    "\n",
    "a = [1,2,3]\n",
    "b=np.array(a)\n",
    "b"
   ]
  },
  {
   "cell_type": "code",
   "execution_count": 21,
   "metadata": {},
   "outputs": [
    {
     "data": {
      "text/plain": [
       "array([1., 2., 3.])"
      ]
     },
     "execution_count": 21,
     "metadata": {},
     "output_type": "execute_result"
    }
   ],
   "source": [
    "a1 = np.array([1,2,3], float)\n",
    "a1\n"
   ]
  },
  {
   "cell_type": "code",
   "execution_count": 22,
   "metadata": {},
   "outputs": [
    {
     "data": {
      "text/plain": [
       "array([[1, 2, 3],\n",
       "       [4, 5, 6],\n",
       "       [7, 8, 9]])"
      ]
     },
     "execution_count": 22,
     "metadata": {},
     "output_type": "execute_result"
    }
   ],
   "source": [
    "a2 = np.array([(1,2,3), (4,5,6), (7,8,9)])\n",
    "a2\n"
   ]
  },
  {
   "cell_type": "code",
   "execution_count": 29,
   "metadata": {},
   "outputs": [
    {
     "data": {
      "text/plain": [
       "array([[0., 0., 0.],\n",
       "       [0., 0., 0.]])"
      ]
     },
     "execution_count": 29,
     "metadata": {},
     "output_type": "execute_result"
    }
   ],
   "source": [
    "# 特殊数组创建\n",
    "a3 = np.zeros((2,3), dtype = float)\n",
    "a3\n"
   ]
  },
  {
   "cell_type": "code",
   "execution_count": 30,
   "metadata": {},
   "outputs": [
    {
     "data": {
      "text/plain": [
       "array([[1., 1., 1.],\n",
       "       [1., 1., 1.],\n",
       "       [1., 1., 1.]])"
      ]
     },
     "execution_count": 30,
     "metadata": {},
     "output_type": "execute_result"
    }
   ],
   "source": [
    "# 创建一个全为1的数组\n",
    "a4 =  np.ones((3, 3))\n",
    "a4"
   ]
  },
  {
   "cell_type": "code",
   "execution_count": 33,
   "metadata": {},
   "outputs": [
    {
     "data": {
      "text/plain": [
       "array([1. , 1.5, 2. , 2.5, 3. , 3.5, 4. , 4.5])"
      ]
     },
     "execution_count": 33,
     "metadata": {},
     "output_type": "execute_result"
    }
   ],
   "source": [
    "# 等差数列\n",
    "a5 = np.arange(1, 5, 0.5)\n",
    "a5\n"
   ]
  },
  {
   "cell_type": "code",
   "execution_count": 38,
   "metadata": {},
   "outputs": [
    {
     "data": {
      "text/plain": [
       "array([[1., 0., 0.],\n",
       "       [0., 1., 0.],\n",
       "       [0., 0., 1.]])"
      ]
     },
     "execution_count": 38,
     "metadata": {},
     "output_type": "execute_result"
    }
   ],
   "source": [
    "# 单位矩阵\n",
    "a6 = np.eye(3)\n",
    "a6"
   ]
  },
  {
   "cell_type": "code",
   "execution_count": 39,
   "metadata": {},
   "outputs": [
    {
     "data": {
      "text/plain": [
       "array([-0.14246891, -0.02941114,  0.01220402,  0.06615381, -0.08200752])"
      ]
     },
     "execution_count": 39,
     "metadata": {},
     "output_type": "execute_result"
    }
   ],
   "source": [
    "# ⽣成随机数组，指定其均值为 0，标准差为 0.1：\n",
    "np.random.normal(0, 0.1, 5)"
   ]
  },
  {
   "cell_type": "code",
   "execution_count": 48,
   "metadata": {},
   "outputs": [
    {
     "name": "stdout",
     "output_type": "stream",
     "text": [
      "[[1 2]\n",
      " [3 4]\n",
      " [5 6]]\n",
      "------------------\n",
      "[[3 4]\n",
      " [5 6]]\n",
      "------------------\n",
      "[[1 2]]\n",
      "------------------\n",
      "[[1]\n",
      " [3]\n",
      " [5]]\n"
     ]
    }
   ],
   "source": [
    "# numpy数组访问\n",
    "a = np.array([(1,2), (3,4), (5,6)])\n",
    "print(a)\n",
    "print(\"------------------\")\n",
    "print(a[1:])\n",
    "print(\"------------------\")\n",
    "print(a[:1])\n",
    "print(\"------------------\")\n",
    "print(a[:,:1])\n"
   ]
  },
  {
   "cell_type": "code",
   "execution_count": 56,
   "metadata": {},
   "outputs": [
    {
     "name": "stdout",
     "output_type": "stream",
     "text": [
      "1\n",
      "2\n",
      "3\n",
      "------------------\n",
      "2\n",
      "12\n",
      "30\n"
     ]
    }
   ],
   "source": [
    "# NumPy 数组的遍历\n",
    "a = np.array([1,2,3])\n",
    "for i in a:\n",
    "    print(i)\n",
    "\n",
    "print(\"------------------\")\n",
    "# 多维数组的遍历：\n",
    "a2 = np.array([(1,2), (3,4), (5,6)])\n",
    "for i,j in a2:\n",
    "    print(i*j)\n"
   ]
  },
  {
   "cell_type": "code",
   "execution_count": 57,
   "metadata": {},
   "outputs": [
    {
     "name": "stdout",
     "output_type": "stream",
     "text": [
      "ndim: 2\n",
      "shape: (3, 3)\n",
      "size 9\n",
      "dtype int32\n"
     ]
    }
   ],
   "source": [
    "# NumPy 数组的常⽤属性\n",
    "a = np.array([(1,2,3), (4,5,6), (7,8,9)])\n",
    "print(\"ndim:\", a.ndim)\n",
    "print(\"shape:\", a.shape)\n",
    "print(\"size\", a.size)\n",
    "print(\"dtype\", a.dtype)"
   ]
  },
  {
   "cell_type": "code",
   "execution_count": 75,
   "metadata": {},
   "outputs": [
    {
     "name": "stdout",
     "output_type": "stream",
     "text": [
      "True\n",
      "False\n",
      "------------------\n",
      "[[[0. 0. 0. 0.]\n",
      "  [0. 0. 0. 0.]\n",
      "  [0. 0. 0. 0.]]\n",
      "\n",
      " [[0. 0. 0. 0.]\n",
      "  [0. 0. 0. 0.]\n",
      "  [0. 0. 0. 0.]]]\n",
      "------------------\n",
      "[[1 2 3]\n",
      " [4 5 6]\n",
      " [7 8 9]]\n",
      "[[1 4 7]\n",
      " [2 5 8]\n",
      " [3 6 9]]\n",
      "------------------\n",
      "[[1 2 3]\n",
      " [4 5 6]\n",
      " [7 8 9]]\n",
      "[[1 4 7]\n",
      " [2 5 8]\n",
      " [3 6 9]]\n",
      "------------------\n",
      "af.flatten()= [ 1 21 32  4 54 68]\n",
      "------------------\n",
      "(3, 3, 1)\n"
     ]
    }
   ],
   "source": [
    "# NumPy 数组的基本操作\n",
    "# in :检测数值是否在数组中\n",
    "a = np.array([(1,2), (3,4)])\n",
    "print(3 in a)\n",
    "print(5 in a)\n",
    "\n",
    "print(\"------------------\")\n",
    "\n",
    "# reshape : 数组的重排列\n",
    "ar = np.zeros([2,3,4])\n",
    "print(ar)\n",
    "ar.reshape(24)\n",
    "print(\"------------------\")\n",
    "\n",
    "# tanspose ：转置 (可以直接.T）\n",
    "at = np.array([(1,2,3), (4,5,6), (7,8,9)])\n",
    "print(at)\n",
    "print(at.transpose())\n",
    "print(\"------------------\")\n",
    "at1 = np.array([(1,2,3), (4,5,6), (7,8,9)])\n",
    "print(at1)\n",
    "print(at1.T)\n",
    "print(\"------------------\")\n",
    "\n",
    "# flatten : 把多维数组转换为⼀维数组\n",
    "af = np.array([(1,21), (32,4), (54,68)])\n",
    "print(\"af.flatten()=\",af.flatten())\n",
    "print(\"------------------\")\n",
    "\n",
    "# newaxis : 增加维度\n",
    "an = np.array([(1,2,3), (4,5,6), (7,8,9)])\n",
    "an = an[:,:,np.newaxis]\n",
    "print(an.shape)\n",
    "\n"
   ]
  },
  {
   "cell_type": "code",
   "execution_count": 84,
   "metadata": {},
   "outputs": [
    {
     "name": "stdout",
     "output_type": "stream",
     "text": [
      "[[1. 1.]\n",
      " [1. 1.]]\n",
      "------------------\n",
      "[[-1  2]\n",
      " [-1  3]]\n",
      "------------------\n",
      "[[0. 3.]\n",
      " [0. 4.]]\n",
      "------------------\n",
      "[[ 2. -1.]\n",
      " [ 2. -2.]]\n",
      "------------------\n",
      "[[-1.  2.]\n",
      " [-1.  3.]]\n",
      "------------------\n",
      "[[-1.          0.5       ]\n",
      " [-1.          0.33333333]]\n",
      "------------------\n"
     ]
    }
   ],
   "source": [
    "# NumPy 数组的数学操作\n",
    "a = np.ones((2,2))\n",
    "b = np.array([(-1,2),(-1,3)])\n",
    "print(a)\n",
    "print(\"------------------\")\n",
    "print(b)\n",
    "print(\"------------------\")\n",
    "print(a+b)\n",
    "print(\"------------------\")\n",
    "print(a-b)\n",
    "print(\"------------------\")\n",
    "print(a*b)\n",
    "print(\"------------------\")\n",
    "print(a/b)\n",
    "print(\"------------------\")\n"
   ]
  },
  {
   "cell_type": "code",
   "execution_count": 86,
   "metadata": {},
   "outputs": [
    {
     "name": "stdout",
     "output_type": "stream",
     "text": [
      "4\n",
      "2\n"
     ]
    }
   ],
   "source": [
    "# 求和、求积\n",
    "a = np.array([1,2,1])\n",
    "print(a.sum())\n",
    "\n",
    "print(a.prod())"
   ]
  },
  {
   "cell_type": "code",
   "execution_count": 87,
   "metadata": {},
   "outputs": [
    {
     "name": "stdout",
     "output_type": "stream",
     "text": [
      "mean: 3.0\n",
      "var: 2.6666666666666665\n",
      "std: 1.632993161855452\n",
      "max: 5\n",
      "min: 1\n"
     ]
    }
   ],
   "source": [
    "# 平均数，⽅差，标准差，最⼤值，最⼩值\n",
    "a = np.array([5,3,1])\n",
    "print(\"mean:\",a.mean())\n",
    "print(\"var:\", a.var())\n",
    "print(\"std:\", a.std())\n",
    "\n",
    "print(\"max:\", a.max())\n",
    "print(\"min:\", a.min())"
   ]
  },
  {
   "cell_type": "code",
   "execution_count": 93,
   "metadata": {},
   "outputs": [
    {
     "name": "stdout",
     "output_type": "stream",
     "text": [
      "最⼤值索引 argmax: 2\n",
      "最小值索引 argmin: 0\n",
      "向上取整 ceil: [2. 4. 5.]\n",
      "向下取整 floor: [1. 3. 4.]\n",
      "四舍五入 rint: [1. 4. 5.]\n"
     ]
    }
   ],
   "source": [
    "# 最⼤与最⼩值对应的索引值：argmax,argmin\n",
    "# 取元素值上限，下限\n",
    "a = np.array([1.2, 3.8, 4.9])\n",
    "print(\"最⼤值索引 argmax:\", a.argmax())\n",
    "print(\"最小值索引 argmin:\", a.argmin())\n",
    "print(\"向上取整 ceil:\", np.ceil(a))\n",
    "print(\"向下取整 floor:\", np.floor(a))\n",
    "print(\"四舍五入 rint:\", np.rint(a))"
   ]
  },
  {
   "cell_type": "code",
   "execution_count": 97,
   "metadata": {},
   "outputs": [
    {
     "name": "stdout",
     "output_type": "stream",
     "text": [
      "排序  [12 16 22 28 31 31 48]\n"
     ]
    }
   ],
   "source": [
    "# 排序\n",
    "a = np.array([16,31,12,28,22,31,48])\n",
    "a.sort()\n",
    "print(\"排序 \",a)"
   ]
  }
 ],
 "metadata": {
  "kernelspec": {
   "display_name": "myenv1",
   "language": "python",
   "name": "python3"
  },
  "language_info": {
   "codemirror_mode": {
    "name": "ipython",
    "version": 3
   },
   "file_extension": ".py",
   "mimetype": "text/x-python",
   "name": "python",
   "nbconvert_exporter": "python",
   "pygments_lexer": "ipython3",
   "version": "3.12.9"
  }
 },
 "nbformat": 4,
 "nbformat_minor": 2
}
