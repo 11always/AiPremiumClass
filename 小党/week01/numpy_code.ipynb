{
 "cells": [
  {
   "cell_type": "code",
   "execution_count": 4,
   "metadata": {},
   "outputs": [
    {
     "name": "stdout",
     "output_type": "stream",
     "text": [
      "Element-wise multiplication: [ 4 10 18]\n",
      "Dot product: 32\n",
      "2D Element-wise multiplication:\n",
      " [[ 5 12]\n",
      " [21 32]]\n",
      "2D Dot product:\n",
      " [[19 22]\n",
      " [43 50]]\n"
     ]
    }
   ],
   "source": [
    "\n",
    "import numpy as np\n",
    "\n",
    "# 定义两个一维数组\n",
    "arr1 = np.array([1, 2, 3])\n",
    "arr2 = np.array([4, 5, 6])\n",
    "\n",
    "# 星乘（element-wise multiplication）\n",
    "element_wise_product = arr1 * arr2\n",
    "print(\"Element-wise multiplication:\", element_wise_product)\n",
    "\n",
    "# 点乘（dot product）\n",
    "dot_product = np.dot(arr1, arr2)\n",
    "print(\"Dot product:\", dot_product)\n",
    "\n",
    "# 定义两个二维数组\n",
    "arr2d_1 = np.array([[1, 2], [3, 4]])\n",
    "arr2d_2 = np.array([[5, 6], [7, 8]])\n",
    "\n",
    "# 二维数组的星乘（element-wise multiplication）\n",
    "element_wise_product_2d = arr2d_1 * arr2d_2\n",
    "print(\"2D Element-wise multiplication:\\n\", element_wise_product_2d)\n",
    "\n",
    "# 二维数组的点乘（dot product）\n",
    "dot_product_2d = np.dot(arr2d_1, arr2d_2)\n",
    "print(\"2D Dot product:\\n\", dot_product_2d)"
   ]
  }
 ],
 "metadata": {
  "kernelspec": {
   "display_name": "py312",
   "language": "python",
   "name": "python3"
  },
  "language_info": {
   "codemirror_mode": {
    "name": "ipython",
    "version": 3
   },
   "file_extension": ".py",
   "mimetype": "text/x-python",
   "name": "python",
   "nbconvert_exporter": "python",
   "pygments_lexer": "ipython3",
   "version": "3.12.9"
  }
 },
 "nbformat": 4,
 "nbformat_minor": 2
}
