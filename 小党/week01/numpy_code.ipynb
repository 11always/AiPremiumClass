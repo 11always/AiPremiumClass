
import numpy as np

# 定义两个一维数组
arr1 = np.array([1, 2, 3])
arr2 = np.array([4, 5, 6])

# 星乘（element-wise multiplication）
element_wise_product = arr1 * arr2
print("Element-wise multiplication:", element_wise_product)

# 点乘（dot product）
dot_product = np.dot(arr1, arr2)
print("Dot product:", dot_product)

# 定义两个二维数组
arr2d_1 = np.array([[1, 2], [3, 4]])
arr2d_2 = np.array([[5, 6], [7, 8]])

# 二维数组的星乘（element-wise multiplication）
element_wise_product_2d = arr2d_1 * arr2d_2
print("2D Element-wise multiplication:\n", element_wise_product_2d)

# 二维数组的点乘（dot product）
dot_product_2d = np.dot(arr2d_1, arr2d_2)
print("2D Dot product:\n", dot_product_2d)